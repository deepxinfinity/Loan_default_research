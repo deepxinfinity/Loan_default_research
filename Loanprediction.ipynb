{
 "cells": [
  {
   "cell_type": "markdown",
   "metadata": {
    "_cell_guid": "b1076dfc-b9ad-4769-8c92-a6c4dae69d19",
    "_uuid": "8f2839f25d086af736a60e9eeb907d3b93b6e0e5",
    "execution": {
     "iopub.execute_input": "2022-07-03T22:45:47.942296Z",
     "iopub.status.busy": "2022-07-03T22:45:47.941998Z",
     "iopub.status.idle": "2022-07-03T22:45:47.945997Z",
     "shell.execute_reply": "2022-07-03T22:45:47.945073Z",
     "shell.execute_reply.started": "2022-07-03T22:45:47.942273Z"
    }
   },
   "source": [
    "#Loan Default Prediction using various machine learning models"
   ]
  },
  {
   "cell_type": "code",
   "execution_count": 1,
   "metadata": {
    "execution": {
     "iopub.execute_input": "2022-07-04T00:17:06.452521Z",
     "iopub.status.busy": "2022-07-04T00:17:06.452016Z",
     "iopub.status.idle": "2022-07-04T00:17:08.111984Z",
     "shell.execute_reply": "2022-07-04T00:17:08.110412Z",
     "shell.execute_reply.started": "2022-07-04T00:17:06.452416Z"
    }
   },
   "outputs": [],
   "source": [
    "import numpy as np\n",
    "import pandas as pd\n",
    "import matplotlib.pyplot as plt"
   ]
  },
  {
   "cell_type": "code",
   "execution_count": 2,
   "metadata": {
    "execution": {
     "iopub.execute_input": "2022-07-04T00:17:11.13178Z",
     "iopub.status.busy": "2022-07-04T00:17:11.131209Z",
     "iopub.status.idle": "2022-07-04T00:17:12.370252Z",
     "shell.execute_reply": "2022-07-04T00:17:12.369209Z",
     "shell.execute_reply.started": "2022-07-04T00:17:11.131727Z"
    }
   },
   "outputs": [],
   "source": [
    "df=pd.read_csv(\"Loan_Default.csv\")"
   ]
  },
  {
   "cell_type": "code",
   "execution_count": 3,
   "metadata": {
    "execution": {
     "iopub.execute_input": "2022-07-04T00:17:12.373729Z",
     "iopub.status.busy": "2022-07-04T00:17:12.372829Z",
     "iopub.status.idle": "2022-07-04T00:17:12.504985Z",
     "shell.execute_reply": "2022-07-04T00:17:12.503612Z",
     "shell.execute_reply.started": "2022-07-04T00:17:12.373664Z"
    }
   },
   "outputs": [
    {
     "data": {
      "text/html": [
       "<div>\n",
       "<style scoped>\n",
       "    .dataframe tbody tr th:only-of-type {\n",
       "        vertical-align: middle;\n",
       "    }\n",
       "\n",
       "    .dataframe tbody tr th {\n",
       "        vertical-align: top;\n",
       "    }\n",
       "\n",
       "    .dataframe thead th {\n",
       "        text-align: right;\n",
       "    }\n",
       "</style>\n",
       "<table border=\"1\" class=\"dataframe\">\n",
       "  <thead>\n",
       "    <tr style=\"text-align: right;\">\n",
       "      <th></th>\n",
       "      <th>ID</th>\n",
       "      <th>year</th>\n",
       "      <th>loan_limit</th>\n",
       "      <th>Gender</th>\n",
       "      <th>approv_in_adv</th>\n",
       "      <th>loan_type</th>\n",
       "      <th>loan_purpose</th>\n",
       "      <th>Credit_Worthiness</th>\n",
       "      <th>open_credit</th>\n",
       "      <th>business_or_commercial</th>\n",
       "      <th>...</th>\n",
       "      <th>credit_type</th>\n",
       "      <th>Credit_Score</th>\n",
       "      <th>co-applicant_credit_type</th>\n",
       "      <th>age</th>\n",
       "      <th>submission_of_application</th>\n",
       "      <th>LTV</th>\n",
       "      <th>Region</th>\n",
       "      <th>Security_Type</th>\n",
       "      <th>Status</th>\n",
       "      <th>dtir1</th>\n",
       "    </tr>\n",
       "  </thead>\n",
       "  <tbody>\n",
       "    <tr>\n",
       "      <th>0</th>\n",
       "      <td>24890</td>\n",
       "      <td>2019</td>\n",
       "      <td>cf</td>\n",
       "      <td>Sex Not Available</td>\n",
       "      <td>nopre</td>\n",
       "      <td>type1</td>\n",
       "      <td>p1</td>\n",
       "      <td>l1</td>\n",
       "      <td>nopc</td>\n",
       "      <td>nob/c</td>\n",
       "      <td>...</td>\n",
       "      <td>EXP</td>\n",
       "      <td>758</td>\n",
       "      <td>CIB</td>\n",
       "      <td>25-34</td>\n",
       "      <td>to_inst</td>\n",
       "      <td>98.728814</td>\n",
       "      <td>south</td>\n",
       "      <td>direct</td>\n",
       "      <td>1</td>\n",
       "      <td>45.0</td>\n",
       "    </tr>\n",
       "    <tr>\n",
       "      <th>1</th>\n",
       "      <td>24891</td>\n",
       "      <td>2019</td>\n",
       "      <td>cf</td>\n",
       "      <td>Male</td>\n",
       "      <td>nopre</td>\n",
       "      <td>type2</td>\n",
       "      <td>p1</td>\n",
       "      <td>l1</td>\n",
       "      <td>nopc</td>\n",
       "      <td>b/c</td>\n",
       "      <td>...</td>\n",
       "      <td>EQUI</td>\n",
       "      <td>552</td>\n",
       "      <td>EXP</td>\n",
       "      <td>55-64</td>\n",
       "      <td>to_inst</td>\n",
       "      <td>NaN</td>\n",
       "      <td>North</td>\n",
       "      <td>direct</td>\n",
       "      <td>1</td>\n",
       "      <td>NaN</td>\n",
       "    </tr>\n",
       "    <tr>\n",
       "      <th>2</th>\n",
       "      <td>24892</td>\n",
       "      <td>2019</td>\n",
       "      <td>cf</td>\n",
       "      <td>Male</td>\n",
       "      <td>pre</td>\n",
       "      <td>type1</td>\n",
       "      <td>p1</td>\n",
       "      <td>l1</td>\n",
       "      <td>nopc</td>\n",
       "      <td>nob/c</td>\n",
       "      <td>...</td>\n",
       "      <td>EXP</td>\n",
       "      <td>834</td>\n",
       "      <td>CIB</td>\n",
       "      <td>35-44</td>\n",
       "      <td>to_inst</td>\n",
       "      <td>80.019685</td>\n",
       "      <td>south</td>\n",
       "      <td>direct</td>\n",
       "      <td>0</td>\n",
       "      <td>46.0</td>\n",
       "    </tr>\n",
       "    <tr>\n",
       "      <th>3</th>\n",
       "      <td>24893</td>\n",
       "      <td>2019</td>\n",
       "      <td>cf</td>\n",
       "      <td>Male</td>\n",
       "      <td>nopre</td>\n",
       "      <td>type1</td>\n",
       "      <td>p4</td>\n",
       "      <td>l1</td>\n",
       "      <td>nopc</td>\n",
       "      <td>nob/c</td>\n",
       "      <td>...</td>\n",
       "      <td>EXP</td>\n",
       "      <td>587</td>\n",
       "      <td>CIB</td>\n",
       "      <td>45-54</td>\n",
       "      <td>not_inst</td>\n",
       "      <td>69.376900</td>\n",
       "      <td>North</td>\n",
       "      <td>direct</td>\n",
       "      <td>0</td>\n",
       "      <td>42.0</td>\n",
       "    </tr>\n",
       "    <tr>\n",
       "      <th>4</th>\n",
       "      <td>24894</td>\n",
       "      <td>2019</td>\n",
       "      <td>cf</td>\n",
       "      <td>Joint</td>\n",
       "      <td>pre</td>\n",
       "      <td>type1</td>\n",
       "      <td>p1</td>\n",
       "      <td>l1</td>\n",
       "      <td>nopc</td>\n",
       "      <td>nob/c</td>\n",
       "      <td>...</td>\n",
       "      <td>CRIF</td>\n",
       "      <td>602</td>\n",
       "      <td>EXP</td>\n",
       "      <td>25-34</td>\n",
       "      <td>not_inst</td>\n",
       "      <td>91.886544</td>\n",
       "      <td>North</td>\n",
       "      <td>direct</td>\n",
       "      <td>0</td>\n",
       "      <td>39.0</td>\n",
       "    </tr>\n",
       "    <tr>\n",
       "      <th>...</th>\n",
       "      <td>...</td>\n",
       "      <td>...</td>\n",
       "      <td>...</td>\n",
       "      <td>...</td>\n",
       "      <td>...</td>\n",
       "      <td>...</td>\n",
       "      <td>...</td>\n",
       "      <td>...</td>\n",
       "      <td>...</td>\n",
       "      <td>...</td>\n",
       "      <td>...</td>\n",
       "      <td>...</td>\n",
       "      <td>...</td>\n",
       "      <td>...</td>\n",
       "      <td>...</td>\n",
       "      <td>...</td>\n",
       "      <td>...</td>\n",
       "      <td>...</td>\n",
       "      <td>...</td>\n",
       "      <td>...</td>\n",
       "      <td>...</td>\n",
       "    </tr>\n",
       "    <tr>\n",
       "      <th>148665</th>\n",
       "      <td>173555</td>\n",
       "      <td>2019</td>\n",
       "      <td>cf</td>\n",
       "      <td>Sex Not Available</td>\n",
       "      <td>nopre</td>\n",
       "      <td>type1</td>\n",
       "      <td>p3</td>\n",
       "      <td>l1</td>\n",
       "      <td>nopc</td>\n",
       "      <td>nob/c</td>\n",
       "      <td>...</td>\n",
       "      <td>CIB</td>\n",
       "      <td>659</td>\n",
       "      <td>EXP</td>\n",
       "      <td>55-64</td>\n",
       "      <td>to_inst</td>\n",
       "      <td>71.792763</td>\n",
       "      <td>south</td>\n",
       "      <td>direct</td>\n",
       "      <td>0</td>\n",
       "      <td>48.0</td>\n",
       "    </tr>\n",
       "    <tr>\n",
       "      <th>148666</th>\n",
       "      <td>173556</td>\n",
       "      <td>2019</td>\n",
       "      <td>cf</td>\n",
       "      <td>Male</td>\n",
       "      <td>nopre</td>\n",
       "      <td>type1</td>\n",
       "      <td>p1</td>\n",
       "      <td>l1</td>\n",
       "      <td>nopc</td>\n",
       "      <td>nob/c</td>\n",
       "      <td>...</td>\n",
       "      <td>CIB</td>\n",
       "      <td>569</td>\n",
       "      <td>CIB</td>\n",
       "      <td>25-34</td>\n",
       "      <td>not_inst</td>\n",
       "      <td>74.428934</td>\n",
       "      <td>south</td>\n",
       "      <td>direct</td>\n",
       "      <td>0</td>\n",
       "      <td>15.0</td>\n",
       "    </tr>\n",
       "    <tr>\n",
       "      <th>148667</th>\n",
       "      <td>173557</td>\n",
       "      <td>2019</td>\n",
       "      <td>cf</td>\n",
       "      <td>Male</td>\n",
       "      <td>nopre</td>\n",
       "      <td>type1</td>\n",
       "      <td>p4</td>\n",
       "      <td>l1</td>\n",
       "      <td>nopc</td>\n",
       "      <td>nob/c</td>\n",
       "      <td>...</td>\n",
       "      <td>CIB</td>\n",
       "      <td>702</td>\n",
       "      <td>EXP</td>\n",
       "      <td>45-54</td>\n",
       "      <td>not_inst</td>\n",
       "      <td>61.332418</td>\n",
       "      <td>North</td>\n",
       "      <td>direct</td>\n",
       "      <td>0</td>\n",
       "      <td>49.0</td>\n",
       "    </tr>\n",
       "    <tr>\n",
       "      <th>148668</th>\n",
       "      <td>173558</td>\n",
       "      <td>2019</td>\n",
       "      <td>cf</td>\n",
       "      <td>Female</td>\n",
       "      <td>nopre</td>\n",
       "      <td>type1</td>\n",
       "      <td>p4</td>\n",
       "      <td>l1</td>\n",
       "      <td>nopc</td>\n",
       "      <td>nob/c</td>\n",
       "      <td>...</td>\n",
       "      <td>EXP</td>\n",
       "      <td>737</td>\n",
       "      <td>EXP</td>\n",
       "      <td>55-64</td>\n",
       "      <td>to_inst</td>\n",
       "      <td>70.683453</td>\n",
       "      <td>North</td>\n",
       "      <td>direct</td>\n",
       "      <td>0</td>\n",
       "      <td>29.0</td>\n",
       "    </tr>\n",
       "    <tr>\n",
       "      <th>148669</th>\n",
       "      <td>173559</td>\n",
       "      <td>2019</td>\n",
       "      <td>cf</td>\n",
       "      <td>Female</td>\n",
       "      <td>nopre</td>\n",
       "      <td>type1</td>\n",
       "      <td>p3</td>\n",
       "      <td>l1</td>\n",
       "      <td>nopc</td>\n",
       "      <td>nob/c</td>\n",
       "      <td>...</td>\n",
       "      <td>CIB</td>\n",
       "      <td>830</td>\n",
       "      <td>CIB</td>\n",
       "      <td>45-54</td>\n",
       "      <td>not_inst</td>\n",
       "      <td>72.849462</td>\n",
       "      <td>North</td>\n",
       "      <td>direct</td>\n",
       "      <td>0</td>\n",
       "      <td>44.0</td>\n",
       "    </tr>\n",
       "  </tbody>\n",
       "</table>\n",
       "<p>148670 rows × 34 columns</p>\n",
       "</div>"
      ],
      "text/plain": [
       "            ID  year loan_limit             Gender approv_in_adv loan_type  \\\n",
       "0        24890  2019         cf  Sex Not Available         nopre     type1   \n",
       "1        24891  2019         cf               Male         nopre     type2   \n",
       "2        24892  2019         cf               Male           pre     type1   \n",
       "3        24893  2019         cf               Male         nopre     type1   \n",
       "4        24894  2019         cf              Joint           pre     type1   \n",
       "...        ...   ...        ...                ...           ...       ...   \n",
       "148665  173555  2019         cf  Sex Not Available         nopre     type1   \n",
       "148666  173556  2019         cf               Male         nopre     type1   \n",
       "148667  173557  2019         cf               Male         nopre     type1   \n",
       "148668  173558  2019         cf             Female         nopre     type1   \n",
       "148669  173559  2019         cf             Female         nopre     type1   \n",
       "\n",
       "       loan_purpose Credit_Worthiness open_credit business_or_commercial  ...  \\\n",
       "0                p1                l1        nopc                  nob/c  ...   \n",
       "1                p1                l1        nopc                    b/c  ...   \n",
       "2                p1                l1        nopc                  nob/c  ...   \n",
       "3                p4                l1        nopc                  nob/c  ...   \n",
       "4                p1                l1        nopc                  nob/c  ...   \n",
       "...             ...               ...         ...                    ...  ...   \n",
       "148665           p3                l1        nopc                  nob/c  ...   \n",
       "148666           p1                l1        nopc                  nob/c  ...   \n",
       "148667           p4                l1        nopc                  nob/c  ...   \n",
       "148668           p4                l1        nopc                  nob/c  ...   \n",
       "148669           p3                l1        nopc                  nob/c  ...   \n",
       "\n",
       "        credit_type  Credit_Score  co-applicant_credit_type    age  \\\n",
       "0               EXP           758                       CIB  25-34   \n",
       "1              EQUI           552                       EXP  55-64   \n",
       "2               EXP           834                       CIB  35-44   \n",
       "3               EXP           587                       CIB  45-54   \n",
       "4              CRIF           602                       EXP  25-34   \n",
       "...             ...           ...                       ...    ...   \n",
       "148665          CIB           659                       EXP  55-64   \n",
       "148666          CIB           569                       CIB  25-34   \n",
       "148667          CIB           702                       EXP  45-54   \n",
       "148668          EXP           737                       EXP  55-64   \n",
       "148669          CIB           830                       CIB  45-54   \n",
       "\n",
       "        submission_of_application        LTV Region Security_Type  Status  \\\n",
       "0                         to_inst  98.728814  south        direct       1   \n",
       "1                         to_inst        NaN  North        direct       1   \n",
       "2                         to_inst  80.019685  south        direct       0   \n",
       "3                        not_inst  69.376900  North        direct       0   \n",
       "4                        not_inst  91.886544  North        direct       0   \n",
       "...                           ...        ...    ...           ...     ...   \n",
       "148665                    to_inst  71.792763  south        direct       0   \n",
       "148666                   not_inst  74.428934  south        direct       0   \n",
       "148667                   not_inst  61.332418  North        direct       0   \n",
       "148668                    to_inst  70.683453  North        direct       0   \n",
       "148669                   not_inst  72.849462  North        direct       0   \n",
       "\n",
       "       dtir1  \n",
       "0       45.0  \n",
       "1        NaN  \n",
       "2       46.0  \n",
       "3       42.0  \n",
       "4       39.0  \n",
       "...      ...  \n",
       "148665  48.0  \n",
       "148666  15.0  \n",
       "148667  49.0  \n",
       "148668  29.0  \n",
       "148669  44.0  \n",
       "\n",
       "[148670 rows x 34 columns]"
      ]
     },
     "execution_count": 3,
     "metadata": {},
     "output_type": "execute_result"
    }
   ],
   "source": [
    "df"
   ]
  },
  {
   "cell_type": "code",
   "execution_count": 4,
   "metadata": {
    "execution": {
     "iopub.execute_input": "2022-07-04T00:17:15.182497Z",
     "iopub.status.busy": "2022-07-04T00:17:15.182063Z",
     "iopub.status.idle": "2022-07-04T00:17:15.190322Z",
     "shell.execute_reply": "2022-07-04T00:17:15.189087Z",
     "shell.execute_reply.started": "2022-07-04T00:17:15.182463Z"
    }
   },
   "outputs": [
    {
     "data": {
      "text/plain": [
       "(148670, 34)"
      ]
     },
     "execution_count": 4,
     "metadata": {},
     "output_type": "execute_result"
    }
   ],
   "source": [
    "df.shape"
   ]
  },
  {
   "cell_type": "code",
   "execution_count": 5,
   "metadata": {
    "execution": {
     "iopub.execute_input": "2022-07-04T00:17:31.822122Z",
     "iopub.status.busy": "2022-07-04T00:17:31.821627Z",
     "iopub.status.idle": "2022-07-04T00:17:31.861623Z",
     "shell.execute_reply": "2022-07-04T00:17:31.860613Z",
     "shell.execute_reply.started": "2022-07-04T00:17:31.822085Z"
    }
   },
   "outputs": [
    {
     "data": {
      "text/html": [
       "<div>\n",
       "<style scoped>\n",
       "    .dataframe tbody tr th:only-of-type {\n",
       "        vertical-align: middle;\n",
       "    }\n",
       "\n",
       "    .dataframe tbody tr th {\n",
       "        vertical-align: top;\n",
       "    }\n",
       "\n",
       "    .dataframe thead th {\n",
       "        text-align: right;\n",
       "    }\n",
       "</style>\n",
       "<table border=\"1\" class=\"dataframe\">\n",
       "  <thead>\n",
       "    <tr style=\"text-align: right;\">\n",
       "      <th></th>\n",
       "      <th>ID</th>\n",
       "      <th>year</th>\n",
       "      <th>loan_limit</th>\n",
       "      <th>Gender</th>\n",
       "      <th>approv_in_adv</th>\n",
       "      <th>loan_type</th>\n",
       "      <th>loan_purpose</th>\n",
       "      <th>Credit_Worthiness</th>\n",
       "      <th>open_credit</th>\n",
       "      <th>business_or_commercial</th>\n",
       "      <th>loan_amount</th>\n",
       "      <th>rate_of_interest</th>\n",
       "      <th>Interest_rate_spread</th>\n",
       "      <th>Upfront_charges</th>\n",
       "      <th>term</th>\n",
       "      <th>Neg_ammortization</th>\n",
       "      <th>interest_only</th>\n",
       "      <th>lump_sum_payment</th>\n",
       "      <th>property_value</th>\n",
       "      <th>construction_type</th>\n",
       "      <th>occupancy_type</th>\n",
       "      <th>Secured_by</th>\n",
       "      <th>total_units</th>\n",
       "      <th>income</th>\n",
       "      <th>credit_type</th>\n",
       "      <th>Credit_Score</th>\n",
       "      <th>co-applicant_credit_type</th>\n",
       "      <th>age</th>\n",
       "      <th>submission_of_application</th>\n",
       "      <th>LTV</th>\n",
       "      <th>Region</th>\n",
       "      <th>Security_Type</th>\n",
       "      <th>Status</th>\n",
       "      <th>dtir1</th>\n",
       "    </tr>\n",
       "  </thead>\n",
       "  <tbody>\n",
       "    <tr>\n",
       "      <th>0</th>\n",
       "      <td>24890</td>\n",
       "      <td>2019</td>\n",
       "      <td>cf</td>\n",
       "      <td>Sex Not Available</td>\n",
       "      <td>nopre</td>\n",
       "      <td>type1</td>\n",
       "      <td>p1</td>\n",
       "      <td>l1</td>\n",
       "      <td>nopc</td>\n",
       "      <td>nob/c</td>\n",
       "      <td>116500</td>\n",
       "      <td>NaN</td>\n",
       "      <td>NaN</td>\n",
       "      <td>NaN</td>\n",
       "      <td>360.0</td>\n",
       "      <td>not_neg</td>\n",
       "      <td>not_int</td>\n",
       "      <td>not_lpsm</td>\n",
       "      <td>118000.0</td>\n",
       "      <td>sb</td>\n",
       "      <td>pr</td>\n",
       "      <td>home</td>\n",
       "      <td>1U</td>\n",
       "      <td>1740.0</td>\n",
       "      <td>EXP</td>\n",
       "      <td>758</td>\n",
       "      <td>CIB</td>\n",
       "      <td>25-34</td>\n",
       "      <td>to_inst</td>\n",
       "      <td>98.728814</td>\n",
       "      <td>south</td>\n",
       "      <td>direct</td>\n",
       "      <td>1</td>\n",
       "      <td>45.0</td>\n",
       "    </tr>\n",
       "    <tr>\n",
       "      <th>1</th>\n",
       "      <td>24891</td>\n",
       "      <td>2019</td>\n",
       "      <td>cf</td>\n",
       "      <td>Male</td>\n",
       "      <td>nopre</td>\n",
       "      <td>type2</td>\n",
       "      <td>p1</td>\n",
       "      <td>l1</td>\n",
       "      <td>nopc</td>\n",
       "      <td>b/c</td>\n",
       "      <td>206500</td>\n",
       "      <td>NaN</td>\n",
       "      <td>NaN</td>\n",
       "      <td>NaN</td>\n",
       "      <td>360.0</td>\n",
       "      <td>not_neg</td>\n",
       "      <td>not_int</td>\n",
       "      <td>lpsm</td>\n",
       "      <td>NaN</td>\n",
       "      <td>sb</td>\n",
       "      <td>pr</td>\n",
       "      <td>home</td>\n",
       "      <td>1U</td>\n",
       "      <td>4980.0</td>\n",
       "      <td>EQUI</td>\n",
       "      <td>552</td>\n",
       "      <td>EXP</td>\n",
       "      <td>55-64</td>\n",
       "      <td>to_inst</td>\n",
       "      <td>NaN</td>\n",
       "      <td>North</td>\n",
       "      <td>direct</td>\n",
       "      <td>1</td>\n",
       "      <td>NaN</td>\n",
       "    </tr>\n",
       "    <tr>\n",
       "      <th>2</th>\n",
       "      <td>24892</td>\n",
       "      <td>2019</td>\n",
       "      <td>cf</td>\n",
       "      <td>Male</td>\n",
       "      <td>pre</td>\n",
       "      <td>type1</td>\n",
       "      <td>p1</td>\n",
       "      <td>l1</td>\n",
       "      <td>nopc</td>\n",
       "      <td>nob/c</td>\n",
       "      <td>406500</td>\n",
       "      <td>4.56</td>\n",
       "      <td>0.2000</td>\n",
       "      <td>595.0</td>\n",
       "      <td>360.0</td>\n",
       "      <td>neg_amm</td>\n",
       "      <td>not_int</td>\n",
       "      <td>not_lpsm</td>\n",
       "      <td>508000.0</td>\n",
       "      <td>sb</td>\n",
       "      <td>pr</td>\n",
       "      <td>home</td>\n",
       "      <td>1U</td>\n",
       "      <td>9480.0</td>\n",
       "      <td>EXP</td>\n",
       "      <td>834</td>\n",
       "      <td>CIB</td>\n",
       "      <td>35-44</td>\n",
       "      <td>to_inst</td>\n",
       "      <td>80.019685</td>\n",
       "      <td>south</td>\n",
       "      <td>direct</td>\n",
       "      <td>0</td>\n",
       "      <td>46.0</td>\n",
       "    </tr>\n",
       "    <tr>\n",
       "      <th>3</th>\n",
       "      <td>24893</td>\n",
       "      <td>2019</td>\n",
       "      <td>cf</td>\n",
       "      <td>Male</td>\n",
       "      <td>nopre</td>\n",
       "      <td>type1</td>\n",
       "      <td>p4</td>\n",
       "      <td>l1</td>\n",
       "      <td>nopc</td>\n",
       "      <td>nob/c</td>\n",
       "      <td>456500</td>\n",
       "      <td>4.25</td>\n",
       "      <td>0.6810</td>\n",
       "      <td>NaN</td>\n",
       "      <td>360.0</td>\n",
       "      <td>not_neg</td>\n",
       "      <td>not_int</td>\n",
       "      <td>not_lpsm</td>\n",
       "      <td>658000.0</td>\n",
       "      <td>sb</td>\n",
       "      <td>pr</td>\n",
       "      <td>home</td>\n",
       "      <td>1U</td>\n",
       "      <td>11880.0</td>\n",
       "      <td>EXP</td>\n",
       "      <td>587</td>\n",
       "      <td>CIB</td>\n",
       "      <td>45-54</td>\n",
       "      <td>not_inst</td>\n",
       "      <td>69.376900</td>\n",
       "      <td>North</td>\n",
       "      <td>direct</td>\n",
       "      <td>0</td>\n",
       "      <td>42.0</td>\n",
       "    </tr>\n",
       "    <tr>\n",
       "      <th>4</th>\n",
       "      <td>24894</td>\n",
       "      <td>2019</td>\n",
       "      <td>cf</td>\n",
       "      <td>Joint</td>\n",
       "      <td>pre</td>\n",
       "      <td>type1</td>\n",
       "      <td>p1</td>\n",
       "      <td>l1</td>\n",
       "      <td>nopc</td>\n",
       "      <td>nob/c</td>\n",
       "      <td>696500</td>\n",
       "      <td>4.00</td>\n",
       "      <td>0.3042</td>\n",
       "      <td>0.0</td>\n",
       "      <td>360.0</td>\n",
       "      <td>not_neg</td>\n",
       "      <td>not_int</td>\n",
       "      <td>not_lpsm</td>\n",
       "      <td>758000.0</td>\n",
       "      <td>sb</td>\n",
       "      <td>pr</td>\n",
       "      <td>home</td>\n",
       "      <td>1U</td>\n",
       "      <td>10440.0</td>\n",
       "      <td>CRIF</td>\n",
       "      <td>602</td>\n",
       "      <td>EXP</td>\n",
       "      <td>25-34</td>\n",
       "      <td>not_inst</td>\n",
       "      <td>91.886544</td>\n",
       "      <td>North</td>\n",
       "      <td>direct</td>\n",
       "      <td>0</td>\n",
       "      <td>39.0</td>\n",
       "    </tr>\n",
       "  </tbody>\n",
       "</table>\n",
       "</div>"
      ],
      "text/plain": [
       "      ID  year loan_limit             Gender approv_in_adv loan_type  \\\n",
       "0  24890  2019         cf  Sex Not Available         nopre     type1   \n",
       "1  24891  2019         cf               Male         nopre     type2   \n",
       "2  24892  2019         cf               Male           pre     type1   \n",
       "3  24893  2019         cf               Male         nopre     type1   \n",
       "4  24894  2019         cf              Joint           pre     type1   \n",
       "\n",
       "  loan_purpose Credit_Worthiness open_credit business_or_commercial  \\\n",
       "0           p1                l1        nopc                  nob/c   \n",
       "1           p1                l1        nopc                    b/c   \n",
       "2           p1                l1        nopc                  nob/c   \n",
       "3           p4                l1        nopc                  nob/c   \n",
       "4           p1                l1        nopc                  nob/c   \n",
       "\n",
       "   loan_amount  rate_of_interest  Interest_rate_spread  Upfront_charges  \\\n",
       "0       116500               NaN                   NaN              NaN   \n",
       "1       206500               NaN                   NaN              NaN   \n",
       "2       406500              4.56                0.2000            595.0   \n",
       "3       456500              4.25                0.6810              NaN   \n",
       "4       696500              4.00                0.3042              0.0   \n",
       "\n",
       "    term Neg_ammortization interest_only lump_sum_payment  property_value  \\\n",
       "0  360.0           not_neg       not_int         not_lpsm        118000.0   \n",
       "1  360.0           not_neg       not_int             lpsm             NaN   \n",
       "2  360.0           neg_amm       not_int         not_lpsm        508000.0   \n",
       "3  360.0           not_neg       not_int         not_lpsm        658000.0   \n",
       "4  360.0           not_neg       not_int         not_lpsm        758000.0   \n",
       "\n",
       "  construction_type occupancy_type Secured_by total_units   income  \\\n",
       "0                sb             pr       home          1U   1740.0   \n",
       "1                sb             pr       home          1U   4980.0   \n",
       "2                sb             pr       home          1U   9480.0   \n",
       "3                sb             pr       home          1U  11880.0   \n",
       "4                sb             pr       home          1U  10440.0   \n",
       "\n",
       "  credit_type  Credit_Score co-applicant_credit_type    age  \\\n",
       "0         EXP           758                      CIB  25-34   \n",
       "1        EQUI           552                      EXP  55-64   \n",
       "2         EXP           834                      CIB  35-44   \n",
       "3         EXP           587                      CIB  45-54   \n",
       "4        CRIF           602                      EXP  25-34   \n",
       "\n",
       "  submission_of_application        LTV Region Security_Type  Status  dtir1  \n",
       "0                   to_inst  98.728814  south        direct       1   45.0  \n",
       "1                   to_inst        NaN  North        direct       1    NaN  \n",
       "2                   to_inst  80.019685  south        direct       0   46.0  \n",
       "3                  not_inst  69.376900  North        direct       0   42.0  \n",
       "4                  not_inst  91.886544  North        direct       0   39.0  "
      ]
     },
     "execution_count": 5,
     "metadata": {},
     "output_type": "execute_result"
    }
   ],
   "source": [
    "pd.set_option(\"display.max_columns\", df.shape[-1])  \n",
    "df.head(5)"
   ]
  },
  {
   "cell_type": "code",
   "execution_count": 6,
   "metadata": {},
   "outputs": [
    {
     "data": {
      "text/plain": [
       "Index(['ID', 'year', 'loan_limit', 'Gender', 'approv_in_adv', 'loan_type',\n",
       "       'loan_purpose', 'Credit_Worthiness', 'open_credit',\n",
       "       'business_or_commercial', 'loan_amount', 'rate_of_interest',\n",
       "       'Interest_rate_spread', 'Upfront_charges', 'term', 'Neg_ammortization',\n",
       "       'interest_only', 'lump_sum_payment', 'property_value',\n",
       "       'construction_type', 'occupancy_type', 'Secured_by', 'total_units',\n",
       "       'income', 'credit_type', 'Credit_Score', 'co-applicant_credit_type',\n",
       "       'age', 'submission_of_application', 'LTV', 'Region', 'Security_Type',\n",
       "       'Status', 'dtir1'],\n",
       "      dtype='object')"
      ]
     },
     "execution_count": 6,
     "metadata": {},
     "output_type": "execute_result"
    }
   ],
   "source": [
    "df.columns"
   ]
  },
  {
   "cell_type": "code",
   "execution_count": 7,
   "metadata": {
    "execution": {
     "iopub.execute_input": "2022-07-03T22:56:46.393595Z",
     "iopub.status.busy": "2022-07-03T22:56:46.393276Z",
     "iopub.status.idle": "2022-07-03T22:56:46.398629Z",
     "shell.execute_reply": "2022-07-03T22:56:46.397857Z",
     "shell.execute_reply.started": "2022-07-03T22:56:46.39357Z"
    }
   },
   "outputs": [],
   "source": [
    "df.columns= df.columns.str.lower()"
   ]
  },
  {
   "cell_type": "code",
   "execution_count": 8,
   "metadata": {},
   "outputs": [
    {
     "data": {
      "text/plain": [
       "Index(['id', 'year', 'loan_limit', 'gender', 'approv_in_adv', 'loan_type',\n",
       "       'loan_purpose', 'credit_worthiness', 'open_credit',\n",
       "       'business_or_commercial', 'loan_amount', 'rate_of_interest',\n",
       "       'interest_rate_spread', 'upfront_charges', 'term', 'neg_ammortization',\n",
       "       'interest_only', 'lump_sum_payment', 'property_value',\n",
       "       'construction_type', 'occupancy_type', 'secured_by', 'total_units',\n",
       "       'income', 'credit_type', 'credit_score', 'co-applicant_credit_type',\n",
       "       'age', 'submission_of_application', 'ltv', 'region', 'security_type',\n",
       "       'status', 'dtir1'],\n",
       "      dtype='object')"
      ]
     },
     "execution_count": 8,
     "metadata": {},
     "output_type": "execute_result"
    }
   ],
   "source": [
    "df.columns"
   ]
  },
  {
   "cell_type": "code",
   "execution_count": 9,
   "metadata": {},
   "outputs": [],
   "source": [
    "# we can drop 'id' ,'loan_limit' , 'gender' ,'approv_in_adv' ,'loan_purpose' ,'open_credit' \n",
    "# ,'business_or_commercial'  because they don't add any valiable information \n",
    "# we can drop 'year' as it includes only one year 2019\n",
    "columns= ['id', 'year', 'loan_limit', 'gender', 'approv_in_adv','loan_purpose', 'credit_worthiness', 'open_credit','business_or_commercial','interest_rate_spread', 'upfront_charges', 'neg_ammortization','interest_only', 'lump_sum_payment','construction_type', 'occupancy_type', 'secured_by', 'total_units','credit_type', 'co-applicant_credit_type','submission_of_application', 'ltv', 'region', 'security_type']\n",
    "df.drop(columns,axis=1, inplace =True)"
   ]
  },
  {
   "cell_type": "code",
   "execution_count": 10,
   "metadata": {},
   "outputs": [
    {
     "data": {
      "text/plain": [
       "Index(['loan_type', 'loan_amount', 'rate_of_interest', 'term',\n",
       "       'property_value', 'income', 'credit_score', 'age', 'status', 'dtir1'],\n",
       "      dtype='object')"
      ]
     },
     "execution_count": 10,
     "metadata": {},
     "output_type": "execute_result"
    }
   ],
   "source": [
    "df.columns"
   ]
  },
  {
   "cell_type": "code",
   "execution_count": 11,
   "metadata": {},
   "outputs": [
    {
     "data": {
      "text/plain": [
       "(148670, 10)"
      ]
     },
     "execution_count": 11,
     "metadata": {},
     "output_type": "execute_result"
    }
   ],
   "source": [
    "df.shape"
   ]
  },
  {
   "cell_type": "code",
   "execution_count": 12,
   "metadata": {
    "execution": {
     "iopub.execute_input": "2022-07-03T22:58:30.806975Z",
     "iopub.status.busy": "2022-07-03T22:58:30.806428Z",
     "iopub.status.idle": "2022-07-03T22:58:30.822072Z",
     "shell.execute_reply": "2022-07-03T22:58:30.820742Z",
     "shell.execute_reply.started": "2022-07-03T22:58:30.806938Z"
    }
   },
   "outputs": [
    {
     "data": {
      "text/html": [
       "<div>\n",
       "<style scoped>\n",
       "    .dataframe tbody tr th:only-of-type {\n",
       "        vertical-align: middle;\n",
       "    }\n",
       "\n",
       "    .dataframe tbody tr th {\n",
       "        vertical-align: top;\n",
       "    }\n",
       "\n",
       "    .dataframe thead th {\n",
       "        text-align: right;\n",
       "    }\n",
       "</style>\n",
       "<table border=\"1\" class=\"dataframe\">\n",
       "  <thead>\n",
       "    <tr style=\"text-align: right;\">\n",
       "      <th></th>\n",
       "      <th>loan_type</th>\n",
       "      <th>loan_amount</th>\n",
       "      <th>rate_of_interest</th>\n",
       "      <th>term</th>\n",
       "      <th>property_value</th>\n",
       "      <th>income</th>\n",
       "      <th>credit_score</th>\n",
       "      <th>age</th>\n",
       "      <th>status</th>\n",
       "      <th>dtir1</th>\n",
       "    </tr>\n",
       "  </thead>\n",
       "  <tbody>\n",
       "    <tr>\n",
       "      <th>0</th>\n",
       "      <td>type1</td>\n",
       "      <td>116500</td>\n",
       "      <td>NaN</td>\n",
       "      <td>360.0</td>\n",
       "      <td>118000.0</td>\n",
       "      <td>1740.0</td>\n",
       "      <td>758</td>\n",
       "      <td>25-34</td>\n",
       "      <td>1</td>\n",
       "      <td>45.0</td>\n",
       "    </tr>\n",
       "    <tr>\n",
       "      <th>1</th>\n",
       "      <td>type2</td>\n",
       "      <td>206500</td>\n",
       "      <td>NaN</td>\n",
       "      <td>360.0</td>\n",
       "      <td>NaN</td>\n",
       "      <td>4980.0</td>\n",
       "      <td>552</td>\n",
       "      <td>55-64</td>\n",
       "      <td>1</td>\n",
       "      <td>NaN</td>\n",
       "    </tr>\n",
       "    <tr>\n",
       "      <th>2</th>\n",
       "      <td>type1</td>\n",
       "      <td>406500</td>\n",
       "      <td>4.56</td>\n",
       "      <td>360.0</td>\n",
       "      <td>508000.0</td>\n",
       "      <td>9480.0</td>\n",
       "      <td>834</td>\n",
       "      <td>35-44</td>\n",
       "      <td>0</td>\n",
       "      <td>46.0</td>\n",
       "    </tr>\n",
       "    <tr>\n",
       "      <th>3</th>\n",
       "      <td>type1</td>\n",
       "      <td>456500</td>\n",
       "      <td>4.25</td>\n",
       "      <td>360.0</td>\n",
       "      <td>658000.0</td>\n",
       "      <td>11880.0</td>\n",
       "      <td>587</td>\n",
       "      <td>45-54</td>\n",
       "      <td>0</td>\n",
       "      <td>42.0</td>\n",
       "    </tr>\n",
       "    <tr>\n",
       "      <th>4</th>\n",
       "      <td>type1</td>\n",
       "      <td>696500</td>\n",
       "      <td>4.00</td>\n",
       "      <td>360.0</td>\n",
       "      <td>758000.0</td>\n",
       "      <td>10440.0</td>\n",
       "      <td>602</td>\n",
       "      <td>25-34</td>\n",
       "      <td>0</td>\n",
       "      <td>39.0</td>\n",
       "    </tr>\n",
       "  </tbody>\n",
       "</table>\n",
       "</div>"
      ],
      "text/plain": [
       "  loan_type  loan_amount  rate_of_interest   term  property_value   income  \\\n",
       "0     type1       116500               NaN  360.0        118000.0   1740.0   \n",
       "1     type2       206500               NaN  360.0             NaN   4980.0   \n",
       "2     type1       406500              4.56  360.0        508000.0   9480.0   \n",
       "3     type1       456500              4.25  360.0        658000.0  11880.0   \n",
       "4     type1       696500              4.00  360.0        758000.0  10440.0   \n",
       "\n",
       "   credit_score    age  status  dtir1  \n",
       "0           758  25-34       1   45.0  \n",
       "1           552  55-64       1    NaN  \n",
       "2           834  35-44       0   46.0  \n",
       "3           587  45-54       0   42.0  \n",
       "4           602  25-34       0   39.0  "
      ]
     },
     "execution_count": 12,
     "metadata": {},
     "output_type": "execute_result"
    }
   ],
   "source": [
    "pd.set_option(\"display.max_columns\", df.shape[-1]) \n",
    "df.head()"
   ]
  },
  {
   "cell_type": "code",
   "execution_count": 13,
   "metadata": {
    "execution": {
     "iopub.execute_input": "2022-07-03T22:58:49.518003Z",
     "iopub.status.busy": "2022-07-03T22:58:49.517516Z",
     "iopub.status.idle": "2022-07-03T22:58:49.591266Z",
     "shell.execute_reply": "2022-07-03T22:58:49.590075Z",
     "shell.execute_reply.started": "2022-07-03T22:58:49.517971Z"
    }
   },
   "outputs": [
    {
     "data": {
      "text/plain": [
       "6"
      ]
     },
     "execution_count": 13,
     "metadata": {},
     "output_type": "execute_result"
    }
   ],
   "source": [
    "df.duplicated().sum() "
   ]
  },
  {
   "cell_type": "code",
   "execution_count": 14,
   "metadata": {
    "execution": {
     "iopub.execute_input": "2022-07-03T22:58:53.253821Z",
     "iopub.status.busy": "2022-07-03T22:58:53.253495Z",
     "iopub.status.idle": "2022-07-03T22:58:53.310034Z",
     "shell.execute_reply": "2022-07-03T22:58:53.308764Z",
     "shell.execute_reply.started": "2022-07-03T22:58:53.253797Z"
    }
   },
   "outputs": [],
   "source": [
    "df.drop_duplicates(inplace=True)"
   ]
  },
  {
   "cell_type": "code",
   "execution_count": 15,
   "metadata": {
    "execution": {
     "iopub.execute_input": "2022-07-03T22:58:59.288795Z",
     "iopub.status.busy": "2022-07-03T22:58:59.288441Z",
     "iopub.status.idle": "2022-07-03T22:58:59.339056Z",
     "shell.execute_reply": "2022-07-03T22:58:59.337489Z",
     "shell.execute_reply.started": "2022-07-03T22:58:59.288754Z"
    }
   },
   "outputs": [
    {
     "data": {
      "text/plain": [
       "0"
      ]
     },
     "execution_count": 15,
     "metadata": {},
     "output_type": "execute_result"
    }
   ],
   "source": [
    "df.duplicated().sum()"
   ]
  },
  {
   "cell_type": "code",
   "execution_count": 16,
   "metadata": {
    "execution": {
     "iopub.execute_input": "2022-07-03T22:59:25.90865Z",
     "iopub.status.busy": "2022-07-03T22:59:25.908333Z",
     "iopub.status.idle": "2022-07-03T22:59:25.939604Z",
     "shell.execute_reply": "2022-07-03T22:59:25.938443Z",
     "shell.execute_reply.started": "2022-07-03T22:59:25.908626Z"
    }
   },
   "outputs": [
    {
     "name": "stdout",
     "output_type": "stream",
     "text": [
      "<class 'pandas.core.frame.DataFrame'>\n",
      "Int64Index: 148664 entries, 0 to 148669\n",
      "Data columns (total 10 columns):\n",
      " #   Column            Non-Null Count   Dtype  \n",
      "---  ------            --------------   -----  \n",
      " 0   loan_type         148664 non-null  object \n",
      " 1   loan_amount       148664 non-null  int64  \n",
      " 2   rate_of_interest  112227 non-null  float64\n",
      " 3   term              148623 non-null  float64\n",
      " 4   property_value    133568 non-null  float64\n",
      " 5   income            139518 non-null  float64\n",
      " 6   credit_score      148664 non-null  int64  \n",
      " 7   age               148464 non-null  object \n",
      " 8   status            148664 non-null  int64  \n",
      " 9   dtir1             124549 non-null  float64\n",
      "dtypes: float64(5), int64(3), object(2)\n",
      "memory usage: 12.5+ MB\n"
     ]
    }
   ],
   "source": [
    "df.info()"
   ]
  },
  {
   "cell_type": "markdown",
   "metadata": {
    "execution": {
     "iopub.execute_input": "2022-07-03T22:59:30.528047Z",
     "iopub.status.busy": "2022-07-03T22:59:30.527712Z",
     "iopub.status.idle": "2022-07-03T22:59:30.531967Z",
     "shell.execute_reply": "2022-07-03T22:59:30.531188Z",
     "shell.execute_reply.started": "2022-07-03T22:59:30.528023Z"
    }
   },
   "source": [
    "### Filling Null values with Mode and Mean"
   ]
  },
  {
   "cell_type": "code",
   "execution_count": 17,
   "metadata": {
    "execution": {
     "iopub.execute_input": "2022-07-03T22:59:15.834242Z",
     "iopub.status.busy": "2022-07-03T22:59:15.83312Z",
     "iopub.status.idle": "2022-07-03T22:59:15.875279Z",
     "shell.execute_reply": "2022-07-03T22:59:15.874143Z",
     "shell.execute_reply.started": "2022-07-03T22:59:15.834183Z"
    }
   },
   "outputs": [
    {
     "data": {
      "text/plain": [
       "loan_type               0\n",
       "loan_amount             0\n",
       "rate_of_interest    36437\n",
       "term                   41\n",
       "property_value      15096\n",
       "income               9146\n",
       "credit_score            0\n",
       "age                   200\n",
       "status                  0\n",
       "dtir1               24115\n",
       "dtype: int64"
      ]
     },
     "execution_count": 17,
     "metadata": {},
     "output_type": "execute_result"
    }
   ],
   "source": [
    "# Checking for Nan values \n",
    "\n",
    "df.isna().sum() "
   ]
  },
  {
   "cell_type": "code",
   "execution_count": 18,
   "metadata": {
    "execution": {
     "iopub.execute_input": "2022-07-03T22:59:43.757579Z",
     "iopub.status.busy": "2022-07-03T22:59:43.757223Z",
     "iopub.status.idle": "2022-07-03T22:59:43.795607Z",
     "shell.execute_reply": "2022-07-03T22:59:43.794831Z",
     "shell.execute_reply.started": "2022-07-03T22:59:43.75755Z"
    }
   },
   "outputs": [],
   "source": [
    "# Mean\n",
    "\n",
    "from sklearn.impute import SimpleImputer\n",
    "imputer = SimpleImputer()\n",
    "df[['rate_of_interest', 'term','property_value','income','dtir1']] = imputer.fit_transform(df[['rate_of_interest', 'term','property_value','income','dtir1']])"
   ]
  },
  {
   "cell_type": "code",
   "execution_count": 19,
   "metadata": {
    "execution": {
     "iopub.execute_input": "2022-07-03T22:59:58.687014Z",
     "iopub.status.busy": "2022-07-03T22:59:58.68665Z",
     "iopub.status.idle": "2022-07-03T22:59:58.732096Z",
     "shell.execute_reply": "2022-07-03T22:59:58.730988Z",
     "shell.execute_reply.started": "2022-07-03T22:59:58.686986Z"
    }
   },
   "outputs": [],
   "source": [
    "# Mode \n",
    "\n",
    "from sklearn.impute import SimpleImputer\n",
    "imputer = SimpleImputer(strategy='most_frequent')\n",
    "df[['age']] = imputer.fit_transform(df[['age']])"
   ]
  },
  {
   "cell_type": "code",
   "execution_count": 20,
   "metadata": {
    "execution": {
     "iopub.execute_input": "2022-07-03T23:00:07.978894Z",
     "iopub.status.busy": "2022-07-03T23:00:07.978571Z",
     "iopub.status.idle": "2022-07-03T23:00:08.001154Z",
     "shell.execute_reply": "2022-07-03T23:00:07.99984Z",
     "shell.execute_reply.started": "2022-07-03T23:00:07.97887Z"
    }
   },
   "outputs": [
    {
     "data": {
      "text/plain": [
       "loan_type           0\n",
       "loan_amount         0\n",
       "rate_of_interest    0\n",
       "term                0\n",
       "property_value      0\n",
       "income              0\n",
       "credit_score        0\n",
       "age                 0\n",
       "status              0\n",
       "dtir1               0\n",
       "dtype: int64"
      ]
     },
     "execution_count": 20,
     "metadata": {},
     "output_type": "execute_result"
    }
   ],
   "source": [
    "df.isna().sum()"
   ]
  },
  {
   "cell_type": "markdown",
   "metadata": {
    "execution": {
     "iopub.execute_input": "2022-07-03T23:00:14.00191Z",
     "iopub.status.busy": "2022-07-03T23:00:14.001579Z",
     "iopub.status.idle": "2022-07-03T23:00:14.006597Z",
     "shell.execute_reply": "2022-07-03T23:00:14.005665Z",
     "shell.execute_reply.started": "2022-07-03T23:00:14.001886Z"
    }
   },
   "source": [
    "# Some Characteristics of Data & Visualization"
   ]
  },
  {
   "cell_type": "code",
   "execution_count": 21,
   "metadata": {
    "execution": {
     "iopub.execute_input": "2022-07-03T23:00:33.02787Z",
     "iopub.status.busy": "2022-07-03T23:00:33.027562Z",
     "iopub.status.idle": "2022-07-03T23:00:33.035062Z",
     "shell.execute_reply": "2022-07-03T23:00:33.033828Z",
     "shell.execute_reply.started": "2022-07-03T23:00:33.027846Z"
    }
   },
   "outputs": [
    {
     "data": {
      "text/plain": [
       "3576500"
      ]
     },
     "execution_count": 21,
     "metadata": {},
     "output_type": "execute_result"
    }
   ],
   "source": [
    "df['loan_amount'].max()"
   ]
  },
  {
   "cell_type": "code",
   "execution_count": 22,
   "metadata": {
    "execution": {
     "iopub.execute_input": "2022-07-03T23:00:39.766746Z",
     "iopub.status.busy": "2022-07-03T23:00:39.766398Z",
     "iopub.status.idle": "2022-07-03T23:00:39.775627Z",
     "shell.execute_reply": "2022-07-03T23:00:39.774316Z",
     "shell.execute_reply.started": "2022-07-03T23:00:39.766719Z"
    }
   },
   "outputs": [
    {
     "data": {
      "text/plain": [
       "16500"
      ]
     },
     "execution_count": 22,
     "metadata": {},
     "output_type": "execute_result"
    }
   ],
   "source": [
    "df['loan_amount'].min()"
   ]
  },
  {
   "cell_type": "code",
   "execution_count": 23,
   "metadata": {
    "execution": {
     "iopub.execute_input": "2022-07-03T23:00:43.680557Z",
     "iopub.status.busy": "2022-07-03T23:00:43.680167Z",
     "iopub.status.idle": "2022-07-03T23:00:43.712692Z",
     "shell.execute_reply": "2022-07-03T23:00:43.711831Z",
     "shell.execute_reply.started": "2022-07-03T23:00:43.680527Z"
    }
   },
   "outputs": [
    {
     "data": {
      "text/plain": [
       "45-54    34919\n",
       "35-44    32815\n",
       "55-64    32533\n",
       "65-74    20744\n",
       "25-34    19141\n",
       ">74       7175\n",
       "<25       1337\n",
       "Name: age, dtype: int64"
      ]
     },
     "execution_count": 23,
     "metadata": {},
     "output_type": "execute_result"
    }
   ],
   "source": [
    "df['age'].value_counts()"
   ]
  },
  {
   "cell_type": "code",
   "execution_count": 24,
   "metadata": {
    "execution": {
     "iopub.execute_input": "2022-07-03T23:00:48.647492Z",
     "iopub.status.busy": "2022-07-03T23:00:48.647175Z",
     "iopub.status.idle": "2022-07-03T23:00:48.655717Z",
     "shell.execute_reply": "2022-07-03T23:00:48.65484Z",
     "shell.execute_reply.started": "2022-07-03T23:00:48.647469Z"
    }
   },
   "outputs": [
    {
     "data": {
      "text/plain": [
       "8.0"
      ]
     },
     "execution_count": 24,
     "metadata": {},
     "output_type": "execute_result"
    }
   ],
   "source": [
    "df['rate_of_interest'].max()"
   ]
  },
  {
   "cell_type": "code",
   "execution_count": 25,
   "metadata": {
    "execution": {
     "iopub.execute_input": "2022-07-03T23:00:55.30696Z",
     "iopub.status.busy": "2022-07-03T23:00:55.306607Z",
     "iopub.status.idle": "2022-07-03T23:00:55.314623Z",
     "shell.execute_reply": "2022-07-03T23:00:55.313767Z",
     "shell.execute_reply.started": "2022-07-03T23:00:55.306934Z"
    }
   },
   "outputs": [
    {
     "data": {
      "text/plain": [
       "0.0"
      ]
     },
     "execution_count": 25,
     "metadata": {},
     "output_type": "execute_result"
    }
   ],
   "source": [
    "df['rate_of_interest'].min()    "
   ]
  },
  {
   "cell_type": "code",
   "execution_count": 26,
   "metadata": {
    "execution": {
     "iopub.execute_input": "2022-07-03T23:01:00.367505Z",
     "iopub.status.busy": "2022-07-03T23:01:00.367164Z",
     "iopub.status.idle": "2022-07-03T23:01:00.376848Z",
     "shell.execute_reply": "2022-07-03T23:01:00.375627Z",
     "shell.execute_reply.started": "2022-07-03T23:01:00.36748Z"
    }
   },
   "outputs": [
    {
     "data": {
      "text/plain": [
       "4.045481969579513"
      ]
     },
     "execution_count": 26,
     "metadata": {},
     "output_type": "execute_result"
    }
   ],
   "source": [
    "df['rate_of_interest'].mean()"
   ]
  },
  {
   "cell_type": "code",
   "execution_count": 27,
   "metadata": {
    "execution": {
     "iopub.execute_input": "2022-07-03T23:01:07.796145Z",
     "iopub.status.busy": "2022-07-03T23:01:07.795816Z",
     "iopub.status.idle": "2022-07-03T23:01:07.804717Z",
     "shell.execute_reply": "2022-07-03T23:01:07.803795Z",
     "shell.execute_reply.started": "2022-07-03T23:01:07.796122Z"
    }
   },
   "outputs": [
    {
     "data": {
      "text/plain": [
       "0    112027\n",
       "1     36637\n",
       "Name: status, dtype: int64"
      ]
     },
     "execution_count": 27,
     "metadata": {},
     "output_type": "execute_result"
    }
   ],
   "source": [
    "df['status'].value_counts()"
   ]
  },
  {
   "cell_type": "code",
   "execution_count": 28,
   "metadata": {
    "execution": {
     "iopub.execute_input": "2022-07-03T23:01:12.495188Z",
     "iopub.status.busy": "2022-07-03T23:01:12.49486Z",
     "iopub.status.idle": "2022-07-03T23:01:12.528322Z",
     "shell.execute_reply": "2022-07-03T23:01:12.527423Z",
     "shell.execute_reply.started": "2022-07-03T23:01:12.495161Z"
    }
   },
   "outputs": [
    {
     "data": {
      "text/plain": [
       "4.979002e+05    15096\n",
       "3.080000e+05     2791\n",
       "2.580000e+05     2763\n",
       "3.580000e+05     2679\n",
       "4.080000e+05     2537\n",
       "                ...  \n",
       "4.648000e+06        1\n",
       "3.878000e+06        1\n",
       "5.758000e+06        1\n",
       "2.618000e+06        1\n",
       "2.698000e+06        1\n",
       "Name: property_value, Length: 386, dtype: int64"
      ]
     },
     "execution_count": 28,
     "metadata": {},
     "output_type": "execute_result"
    }
   ],
   "source": [
    "df['property_value'].value_counts()"
   ]
  },
  {
   "cell_type": "code",
   "execution_count": 29,
   "metadata": {
    "execution": {
     "iopub.execute_input": "2022-07-03T23:01:16.713891Z",
     "iopub.status.busy": "2022-07-03T23:01:16.712649Z",
     "iopub.status.idle": "2022-07-03T23:01:16.72131Z",
     "shell.execute_reply": "2022-07-03T23:01:16.719898Z",
     "shell.execute_reply.started": "2022-07-03T23:01:16.713854Z"
    }
   },
   "outputs": [
    {
     "data": {
      "text/plain": [
       "16508000.0"
      ]
     },
     "execution_count": 29,
     "metadata": {},
     "output_type": "execute_result"
    }
   ],
   "source": [
    "df['property_value'].max()"
   ]
  },
  {
   "cell_type": "code",
   "execution_count": 30,
   "metadata": {
    "execution": {
     "iopub.execute_input": "2022-07-03T23:01:20.239056Z",
     "iopub.status.busy": "2022-07-03T23:01:20.238669Z",
     "iopub.status.idle": "2022-07-03T23:01:20.246321Z",
     "shell.execute_reply": "2022-07-03T23:01:20.24551Z",
     "shell.execute_reply.started": "2022-07-03T23:01:20.239027Z"
    }
   },
   "outputs": [
    {
     "data": {
      "text/plain": [
       "8000.0"
      ]
     },
     "execution_count": 30,
     "metadata": {},
     "output_type": "execute_result"
    }
   ],
   "source": [
    "df['property_value'].min()"
   ]
  },
  {
   "cell_type": "code",
   "execution_count": 31,
   "metadata": {
    "execution": {
     "iopub.execute_input": "2022-07-03T23:01:23.930925Z",
     "iopub.status.busy": "2022-07-03T23:01:23.930569Z",
     "iopub.status.idle": "2022-07-03T23:01:23.938624Z",
     "shell.execute_reply": "2022-07-03T23:01:23.93709Z",
     "shell.execute_reply.started": "2022-07-03T23:01:23.9309Z"
    }
   },
   "outputs": [
    {
     "data": {
      "text/plain": [
       "3576500"
      ]
     },
     "execution_count": 31,
     "metadata": {},
     "output_type": "execute_result"
    }
   ],
   "source": [
    "df['loan_amount'].max()"
   ]
  },
  {
   "cell_type": "code",
   "execution_count": 32,
   "metadata": {
    "execution": {
     "iopub.execute_input": "2022-07-03T23:01:27.6921Z",
     "iopub.status.busy": "2022-07-03T23:01:27.691683Z",
     "iopub.status.idle": "2022-07-03T23:01:27.705168Z",
     "shell.execute_reply": "2022-07-03T23:01:27.703928Z",
     "shell.execute_reply.started": "2022-07-03T23:01:27.692069Z"
    }
   },
   "outputs": [
    {
     "data": {
      "text/plain": [
       "17114    2476500\n",
       "Name: loan_amount, dtype: int64"
      ]
     },
     "execution_count": 32,
     "metadata": {},
     "output_type": "execute_result"
    }
   ],
   "source": [
    "mask=df['property_value']==df['property_value'].max()\n",
    "df[mask]['loan_amount']"
   ]
  },
  {
   "cell_type": "code",
   "execution_count": 33,
   "metadata": {
    "execution": {
     "iopub.execute_input": "2022-07-03T23:01:31.187322Z",
     "iopub.status.busy": "2022-07-03T23:01:31.186937Z",
     "iopub.status.idle": "2022-07-03T23:01:31.19601Z",
     "shell.execute_reply": "2022-07-03T23:01:31.195128Z",
     "shell.execute_reply.started": "2022-07-03T23:01:31.187291Z"
    }
   },
   "outputs": [
    {
     "data": {
      "text/plain": [
       "62237    1\n",
       "Name: status, dtype: int64"
      ]
     },
     "execution_count": 33,
     "metadata": {},
     "output_type": "execute_result"
    }
   ],
   "source": [
    "mask = df['income']==df['income'].max()\n",
    "df[mask]['status']"
   ]
  },
  {
   "cell_type": "code",
   "execution_count": 34,
   "metadata": {
    "execution": {
     "iopub.execute_input": "2022-07-03T23:01:35.295654Z",
     "iopub.status.busy": "2022-07-03T23:01:35.295268Z",
     "iopub.status.idle": "2022-07-03T23:01:35.307315Z",
     "shell.execute_reply": "2022-07-03T23:01:35.306185Z",
     "shell.execute_reply.started": "2022-07-03T23:01:35.295625Z"
    }
   },
   "outputs": [
    {
     "data": {
      "text/plain": [
       "62237    4.045482\n",
       "Name: rate_of_interest, dtype: float64"
      ]
     },
     "execution_count": 34,
     "metadata": {},
     "output_type": "execute_result"
    }
   ],
   "source": [
    "mask = df['income']==df['income'].max()\n",
    "df[mask]['rate_of_interest']"
   ]
  },
  {
   "cell_type": "code",
   "execution_count": 35,
   "metadata": {
    "execution": {
     "iopub.execute_input": "2022-07-03T23:01:38.866024Z",
     "iopub.status.busy": "2022-07-03T23:01:38.86567Z",
     "iopub.status.idle": "2022-07-03T23:01:38.876467Z",
     "shell.execute_reply": "2022-07-03T23:01:38.875471Z",
     "shell.execute_reply.started": "2022-07-03T23:01:38.865998Z"
    }
   },
   "outputs": [
    {
     "data": {
      "text/plain": [
       "42        1\n",
       "143       1\n",
       "208       1\n",
       "301       1\n",
       "409       1\n",
       "         ..\n",
       "147632    1\n",
       "147728    1\n",
       "148163    1\n",
       "148197    1\n",
       "148349    1\n",
       "Name: status, Length: 1259, dtype: int64"
      ]
     },
     "execution_count": 35,
     "metadata": {},
     "output_type": "execute_result"
    }
   ],
   "source": [
    "mask = df['income']==df['income'].min()           \n",
    "df[mask]['status']"
   ]
  },
  {
   "cell_type": "code",
   "execution_count": 36,
   "metadata": {
    "execution": {
     "iopub.execute_input": "2022-07-03T23:01:46.714175Z",
     "iopub.status.busy": "2022-07-03T23:01:46.713807Z",
     "iopub.status.idle": "2022-07-03T23:01:46.72501Z",
     "shell.execute_reply": "2022-07-03T23:01:46.724131Z",
     "shell.execute_reply.started": "2022-07-03T23:01:46.714148Z"
    }
   },
   "outputs": [
    {
     "data": {
      "text/plain": [
       "4.045482    1251\n",
       "4.125000       2\n",
       "3.625000       1\n",
       "2.990000       1\n",
       "4.750000       1\n",
       "0.000000       1\n",
       "3.875000       1\n",
       "4.250000       1\n",
       "Name: rate_of_interest, dtype: int64"
      ]
     },
     "execution_count": 36,
     "metadata": {},
     "output_type": "execute_result"
    }
   ],
   "source": [
    "mask = df['income']==df['income'].min()\n",
    "df[mask]['rate_of_interest'].value_counts()"
   ]
  },
  {
   "cell_type": "code",
   "execution_count": 37,
   "metadata": {
    "execution": {
     "iopub.execute_input": "2022-07-03T23:01:55.813803Z",
     "iopub.status.busy": "2022-07-03T23:01:55.812961Z",
     "iopub.status.idle": "2022-07-03T23:01:55.822729Z",
     "shell.execute_reply": "2022-07-03T23:01:55.822181Z",
     "shell.execute_reply.started": "2022-07-03T23:01:55.81376Z"
    }
   },
   "outputs": [
    {
     "data": {
      "text/plain": [
       "6957.392164      9146\n",
       "0.000000         1259\n",
       "3600.000000      1250\n",
       "4200.000000      1243\n",
       "4800.000000      1191\n",
       "                 ... \n",
       "45300.000000        1\n",
       "154440.000000       1\n",
       "137760.000000       1\n",
       "145560.000000       1\n",
       "79920.000000        1\n",
       "Name: income, Length: 1002, dtype: int64"
      ]
     },
     "execution_count": 37,
     "metadata": {},
     "output_type": "execute_result"
    }
   ],
   "source": [
    "df['income'].value_counts()"
   ]
  },
  {
   "cell_type": "code",
   "execution_count": 38,
   "metadata": {
    "execution": {
     "iopub.execute_input": "2022-07-03T23:02:00.143069Z",
     "iopub.status.busy": "2022-07-03T23:02:00.142601Z",
     "iopub.status.idle": "2022-07-03T23:02:00.15238Z",
     "shell.execute_reply": "2022-07-03T23:02:00.151067Z",
     "shell.execute_reply.started": "2022-07-03T23:02:00.143041Z"
    }
   },
   "outputs": [
    {
     "data": {
      "text/plain": [
       "6957.392164451898"
      ]
     },
     "execution_count": 38,
     "metadata": {},
     "output_type": "execute_result"
    }
   ],
   "source": [
    "df['income'].mean()"
   ]
  },
  {
   "cell_type": "code",
   "execution_count": 39,
   "metadata": {
    "execution": {
     "iopub.execute_input": "2022-07-03T23:02:05.102052Z",
     "iopub.status.busy": "2022-07-03T23:02:05.101626Z",
     "iopub.status.idle": "2022-07-03T23:02:05.108419Z",
     "shell.execute_reply": "2022-07-03T23:02:05.107163Z",
     "shell.execute_reply.started": "2022-07-03T23:02:05.102018Z"
    }
   },
   "outputs": [],
   "source": [
    "mask=df['income']<2000"
   ]
  },
  {
   "cell_type": "code",
   "execution_count": 40,
   "metadata": {
    "execution": {
     "iopub.execute_input": "2022-07-03T23:02:08.574901Z",
     "iopub.status.busy": "2022-07-03T23:02:08.574502Z",
     "iopub.status.idle": "2022-07-03T23:02:08.583934Z",
     "shell.execute_reply": "2022-07-03T23:02:08.582863Z",
     "shell.execute_reply.started": "2022-07-03T23:02:08.574865Z"
    }
   },
   "outputs": [
    {
     "data": {
      "text/plain": [
       "False    140706\n",
       "True       7958\n",
       "Name: income, dtype: int64"
      ]
     },
     "execution_count": 40,
     "metadata": {},
     "output_type": "execute_result"
    }
   ],
   "source": [
    "mask.value_counts()            # there is income less than 2000"
   ]
  },
  {
   "cell_type": "code",
   "execution_count": 50,
   "metadata": {
    "execution": {
     "iopub.execute_input": "2022-07-03T23:02:12.293556Z",
     "iopub.status.busy": "2022-07-03T23:02:12.293177Z",
     "iopub.status.idle": "2022-07-03T23:02:51.593593Z",
     "shell.execute_reply": "2022-07-03T23:02:51.591971Z",
     "shell.execute_reply.started": "2022-07-03T23:02:12.293527Z"
    }
   },
   "outputs": [],
   "source": [
    "df['income']=df['income'].apply(lambda x: x if x not in mask else df['income'].mean())"
   ]
  },
  {
   "cell_type": "code",
   "execution_count": 51,
   "metadata": {
    "execution": {
     "iopub.execute_input": "2022-07-03T23:02:51.596653Z",
     "iopub.status.busy": "2022-07-03T23:02:51.596253Z",
     "iopub.status.idle": "2022-07-03T23:02:51.608384Z",
     "shell.execute_reply": "2022-07-03T23:02:51.607253Z",
     "shell.execute_reply.started": "2022-07-03T23:02:51.596622Z"
    }
   },
   "outputs": [
    {
     "data": {
      "text/plain": [
       "False    148664\n",
       "Name: income, dtype: int64"
      ]
     },
     "execution_count": 51,
     "metadata": {},
     "output_type": "execute_result"
    }
   ],
   "source": [
    "mask=df['income']<2000\n",
    "mask.value_counts()"
   ]
  },
  {
   "cell_type": "code",
   "execution_count": 52,
   "metadata": {
    "execution": {
     "iopub.execute_input": "2022-07-03T23:02:51.610973Z",
     "iopub.status.busy": "2022-07-03T23:02:51.610465Z",
     "iopub.status.idle": "2022-07-03T23:02:51.621352Z",
     "shell.execute_reply": "2022-07-03T23:02:51.619938Z",
     "shell.execute_reply.started": "2022-07-03T23:02:51.610931Z"
    }
   },
   "outputs": [
    {
     "data": {
      "text/plain": [
       "6957.392164451898"
      ]
     },
     "execution_count": 52,
     "metadata": {},
     "output_type": "execute_result"
    }
   ],
   "source": [
    "df['income'].min()"
   ]
  },
  {
   "cell_type": "code",
   "execution_count": 53,
   "metadata": {
    "execution": {
     "iopub.execute_input": "2022-07-03T23:02:51.624663Z",
     "iopub.status.busy": "2022-07-03T23:02:51.624247Z",
     "iopub.status.idle": "2022-07-03T23:02:51.63702Z",
     "shell.execute_reply": "2022-07-03T23:02:51.636095Z",
     "shell.execute_reply.started": "2022-07-03T23:02:51.624615Z"
    }
   },
   "outputs": [
    {
     "data": {
      "text/plain": [
       "4.045482    39609\n",
       "3.990000    14454\n",
       "3.625000     8799\n",
       "3.875000     8592\n",
       "3.750000     8473\n",
       "            ...  \n",
       "6.375000        1\n",
       "2.125000        1\n",
       "5.300000        1\n",
       "4.865000        1\n",
       "2.700000        1\n",
       "Name: rate_of_interest, Length: 125, dtype: int64"
      ]
     },
     "execution_count": 53,
     "metadata": {},
     "output_type": "execute_result"
    }
   ],
   "source": [
    "df['rate_of_interest'].value_counts()"
   ]
  },
  {
   "cell_type": "code",
   "execution_count": 54,
   "metadata": {
    "execution": {
     "iopub.execute_input": "2022-07-03T23:02:51.639246Z",
     "iopub.status.busy": "2022-07-03T23:02:51.638754Z",
     "iopub.status.idle": "2022-07-03T23:02:51.653624Z",
     "shell.execute_reply": "2022-07-03T23:02:51.652318Z",
     "shell.execute_reply.started": "2022-07-03T23:02:51.639219Z"
    }
   },
   "outputs": [
    {
     "data": {
      "text/plain": [
       "2.125"
      ]
     },
     "execution_count": 54,
     "metadata": {},
     "output_type": "execute_result"
    }
   ],
   "source": [
    "df['rate_of_interest'].min()      # interest rate shall not be zero"
   ]
  },
  {
   "cell_type": "code",
   "execution_count": 55,
   "metadata": {
    "execution": {
     "iopub.execute_input": "2022-07-03T23:02:51.658216Z",
     "iopub.status.busy": "2022-07-03T23:02:51.655381Z",
     "iopub.status.idle": "2022-07-03T23:02:51.667953Z",
     "shell.execute_reply": "2022-07-03T23:02:51.666708Z",
     "shell.execute_reply.started": "2022-07-03T23:02:51.658159Z"
    }
   },
   "outputs": [
    {
     "data": {
      "text/plain": [
       "4.049983858453122"
      ]
     },
     "execution_count": 55,
     "metadata": {},
     "output_type": "execute_result"
    }
   ],
   "source": [
    "df['rate_of_interest'].mean()"
   ]
  },
  {
   "cell_type": "code",
   "execution_count": 56,
   "metadata": {
    "execution": {
     "iopub.execute_input": "2022-07-03T23:02:51.670958Z",
     "iopub.status.busy": "2022-07-03T23:02:51.670191Z",
     "iopub.status.idle": "2022-07-03T23:02:51.680673Z",
     "shell.execute_reply": "2022-07-03T23:02:51.67926Z",
     "shell.execute_reply.started": "2022-07-03T23:02:51.670915Z"
    }
   },
   "outputs": [
    {
     "data": {
      "text/plain": [
       "False    148664\n",
       "Name: rate_of_interest, dtype: int64"
      ]
     },
     "execution_count": 56,
     "metadata": {},
     "output_type": "execute_result"
    }
   ],
   "source": [
    "mask=df['rate_of_interest']==0\n",
    "mask.value_counts()"
   ]
  },
  {
   "cell_type": "code",
   "execution_count": 57,
   "metadata": {
    "execution": {
     "iopub.execute_input": "2022-07-03T23:02:51.682348Z",
     "iopub.status.busy": "2022-07-03T23:02:51.682036Z",
     "iopub.status.idle": "2022-07-03T23:02:53.057837Z",
     "shell.execute_reply": "2022-07-03T23:02:53.057153Z",
     "shell.execute_reply.started": "2022-07-03T23:02:51.682311Z"
    }
   },
   "outputs": [],
   "source": [
    "df['rate_of_interest']=df['rate_of_interest'].apply(lambda x: x if x not in mask else df['rate_of_interest'].mean())"
   ]
  },
  {
   "cell_type": "code",
   "execution_count": 58,
   "metadata": {
    "execution": {
     "iopub.execute_input": "2022-07-03T23:02:53.059509Z",
     "iopub.status.busy": "2022-07-03T23:02:53.058731Z",
     "iopub.status.idle": "2022-07-03T23:02:53.066454Z",
     "shell.execute_reply": "2022-07-03T23:02:53.065556Z",
     "shell.execute_reply.started": "2022-07-03T23:02:53.059482Z"
    }
   },
   "outputs": [
    {
     "data": {
      "text/plain": [
       "2.125"
      ]
     },
     "execution_count": 58,
     "metadata": {},
     "output_type": "execute_result"
    }
   ],
   "source": [
    "df['rate_of_interest'].min()"
   ]
  },
  {
   "cell_type": "markdown",
   "metadata": {},
   "source": [
    "# Data Visualization"
   ]
  },
  {
   "cell_type": "code",
   "execution_count": null,
   "metadata": {},
   "outputs": [],
   "source": [
    "import seaborn as sns\n",
    "from sklearn.model_selection import train_test_split\n",
    "from sklearn.preprocessing import StandardScaler\n",
    "from imblearn.under_sampling import RandomUnderSampler\n",
    "from imblearn.over_sampling import SMOTE\n",
    "\n",
    "sns.set(rc={'figure.figsize': [10, 10]}, font_scale=1.3)"
   ]
  },
  {
   "cell_type": "code",
   "execution_count": 59,
   "metadata": {},
   "outputs": [
    {
     "data": {
      "text/plain": [
       "<AxesSubplot: xlabel='status', ylabel='count'>"
      ]
     },
     "execution_count": 59,
     "metadata": {},
     "output_type": "execute_result"
    },
    {
     "data": {
      "image/png": "[encoded data removed]",
      "text/plain": [
       "<Figure size 1000x1000 with 1 Axes>"
      ]
     },
     "metadata": {},
     "output_type": "display_data"
    }
   ],
   "source": [
    "sns.countplot(data=df , x='status')"
   ]
  },
  {
   "cell_type": "code",
   "execution_count": 60,
   "metadata": {
    "execution": {
     "iopub.execute_input": "2022-07-03T23:03:10.409333Z",
     "iopub.status.busy": "2022-07-03T23:03:10.409029Z",
     "iopub.status.idle": "2022-07-03T23:03:10.901335Z",
     "shell.execute_reply": "2022-07-03T23:03:10.900387Z",
     "shell.execute_reply.started": "2022-07-03T23:03:10.40931Z"
    }
   },
   "outputs": [
    {
     "data": {
      "text/plain": [
       "<AxesSubplot: xlabel='age', ylabel='count'>"
      ]
     },
     "execution_count": 60,
     "metadata": {},
     "output_type": "execute_result"
    },
    {
     "data": {
      "image/png": "[encoded data removed]",
      "text/plain": [
       "<Figure size 1000x1000 with 1 Axes>"
      ]
     },
     "metadata": {},
     "output_type": "display_data"
    }
   ],
   "source": [
    "sns.countplot(data=df , x='age')"
   ]
  },
  {
   "cell_type": "code",
   "execution_count": 61,
   "metadata": {
    "execution": {
     "iopub.execute_input": "2022-07-03T23:04:19.087959Z",
     "iopub.status.busy": "2022-07-03T23:04:19.087666Z",
     "iopub.status.idle": "2022-07-03T23:04:19.552953Z",
     "shell.execute_reply": "2022-07-03T23:04:19.551954Z",
     "shell.execute_reply.started": "2022-07-03T23:04:19.087931Z"
    }
   },
   "outputs": [
    {
     "data": {
      "text/plain": [
       "<AxesSubplot: >"
      ]
     },
     "execution_count": 61,
     "metadata": {},
     "output_type": "execute_result"
    },
    {
     "data": {
      "image/png": "[encoded data removed]",
      "text/plain": [
       "<Figure size 1000x1000 with 2 Axes>"
      ]
     },
     "metadata": {},
     "output_type": "display_data"
    }
   ],
   "source": [
    "sns.heatmap(df.corr() , annot = True)"
   ]
  },
  {
   "cell_type": "markdown",
   "metadata": {
    "execution": {
     "iopub.execute_input": "2022-07-03T23:04:25.632935Z",
     "iopub.status.busy": "2022-07-03T23:04:25.632606Z",
     "iopub.status.idle": "2022-07-03T23:04:25.637259Z",
     "shell.execute_reply": "2022-07-03T23:04:25.636297Z",
     "shell.execute_reply.started": "2022-07-03T23:04:25.632911Z"
    }
   },
   "source": [
    "# Dealing with non numerical values "
   ]
  },
  {
   "cell_type": "markdown",
   "metadata": {
    "execution": {
     "iopub.execute_input": "2022-07-03T23:04:29.297256Z",
     "iopub.status.busy": "2022-07-03T23:04:29.296947Z",
     "iopub.status.idle": "2022-07-03T23:04:29.302258Z",
     "shell.execute_reply": "2022-07-03T23:04:29.301096Z",
     "shell.execute_reply.started": "2022-07-03T23:04:29.297232Z"
    }
   },
   "source": [
    "### All data must be numerical to be used in the machine learning model"
   ]
  },
  {
   "cell_type": "code",
   "execution_count": 62,
   "metadata": {
    "execution": {
     "iopub.execute_input": "2022-07-03T23:04:33.18739Z",
     "iopub.status.busy": "2022-07-03T23:04:33.187025Z",
     "iopub.status.idle": "2022-07-03T23:04:33.231468Z",
     "shell.execute_reply": "2022-07-03T23:04:33.230145Z",
     "shell.execute_reply.started": "2022-07-03T23:04:33.187361Z"
    }
   },
   "outputs": [
    {
     "name": "stdout",
     "output_type": "stream",
     "text": [
      "<class 'pandas.core.frame.DataFrame'>\n",
      "Int64Index: 148664 entries, 0 to 148669\n",
      "Data columns (total 10 columns):\n",
      " #   Column            Non-Null Count   Dtype  \n",
      "---  ------            --------------   -----  \n",
      " 0   loan_type         148664 non-null  object \n",
      " 1   loan_amount       148664 non-null  int64  \n",
      " 2   rate_of_interest  148664 non-null  float64\n",
      " 3   term              148664 non-null  float64\n",
      " 4   property_value    148664 non-null  float64\n",
      " 5   income            148664 non-null  float64\n",
      " 6   credit_score      148664 non-null  int64  \n",
      " 7   age               148664 non-null  object \n",
      " 8   status            148664 non-null  int64  \n",
      " 9   dtir1             148664 non-null  float64\n",
      "dtypes: float64(5), int64(3), object(2)\n",
      "memory usage: 16.5+ MB\n"
     ]
    }
   ],
   "source": [
    "df.info()"
   ]
  },
  {
   "cell_type": "code",
   "execution_count": 63,
   "metadata": {},
   "outputs": [],
   "source": [
    "df['new'] = ((df['loan_amount']/ df['property_value'])*df['rate_of_interest'])   #New metrics (Novelty)\n",
    "df['new1']=df['loan_amount']/df['credit_score']"
   ]
  },
  {
   "cell_type": "code",
   "execution_count": 64,
   "metadata": {
    "execution": {
     "iopub.execute_input": "2022-07-03T23:04:37.261903Z",
     "iopub.status.busy": "2022-07-03T23:04:37.26149Z",
     "iopub.status.idle": "2022-07-03T23:04:37.309797Z",
     "shell.execute_reply": "2022-07-03T23:04:37.309148Z",
     "shell.execute_reply.started": "2022-07-03T23:04:37.261866Z"
    }
   },
   "outputs": [],
   "source": [
    "df = pd.get_dummies(df, columns=['loan_type','age'], drop_first=True)"
   ]
  },
  {
   "cell_type": "code",
   "execution_count": 65,
   "metadata": {
    "execution": {
     "iopub.execute_input": "2022-07-03T23:04:41.414263Z",
     "iopub.status.busy": "2022-07-03T23:04:41.413982Z",
     "iopub.status.idle": "2022-07-03T23:04:41.439527Z",
     "shell.execute_reply": "2022-07-03T23:04:41.438601Z",
     "shell.execute_reply.started": "2022-07-03T23:04:41.41424Z"
    }
   },
   "outputs": [
    {
     "name": "stdout",
     "output_type": "stream",
     "text": [
      "<class 'pandas.core.frame.DataFrame'>\n",
      "Int64Index: 148664 entries, 0 to 148669\n",
      "Data columns (total 18 columns):\n",
      " #   Column            Non-Null Count   Dtype  \n",
      "---  ------            --------------   -----  \n",
      " 0   loan_amount       148664 non-null  int64  \n",
      " 1   rate_of_interest  148664 non-null  float64\n",
      " 2   term              148664 non-null  float64\n",
      " 3   property_value    148664 non-null  float64\n",
      " 4   income            148664 non-null  float64\n",
      " 5   credit_score      148664 non-null  int64  \n",
      " 6   status            148664 non-null  int64  \n",
      " 7   dtir1             148664 non-null  float64\n",
      " 8   new               148664 non-null  float64\n",
      " 9   new1              148664 non-null  float64\n",
      " 10  loan_type_type2   148664 non-null  uint8  \n",
      " 11  loan_type_type3   148664 non-null  uint8  \n",
      " 12  age_35-44         148664 non-null  uint8  \n",
      " 13  age_45-54         148664 non-null  uint8  \n",
      " 14  age_55-64         148664 non-null  uint8  \n",
      " 15  age_65-74         148664 non-null  uint8  \n",
      " 16  age_<25           148664 non-null  uint8  \n",
      " 17  age_>74           148664 non-null  uint8  \n",
      "dtypes: float64(7), int64(3), uint8(8)\n",
      "memory usage: 17.6 MB\n"
     ]
    }
   ],
   "source": [
    "df.info()"
   ]
  },
  {
   "cell_type": "code",
   "execution_count": 66,
   "metadata": {
    "execution": {
     "iopub.execute_input": "2022-07-03T23:04:47.250541Z",
     "iopub.status.busy": "2022-07-03T23:04:47.250216Z",
     "iopub.status.idle": "2022-07-03T23:04:47.2654Z",
     "shell.execute_reply": "2022-07-03T23:04:47.264296Z",
     "shell.execute_reply.started": "2022-07-03T23:04:47.250517Z"
    }
   },
   "outputs": [
    {
     "data": {
      "text/html": [
       "<div>\n",
       "<style scoped>\n",
       "    .dataframe tbody tr th:only-of-type {\n",
       "        vertical-align: middle;\n",
       "    }\n",
       "\n",
       "    .dataframe tbody tr th {\n",
       "        vertical-align: top;\n",
       "    }\n",
       "\n",
       "    .dataframe thead th {\n",
       "        text-align: right;\n",
       "    }\n",
       "</style>\n",
       "<table border=\"1\" class=\"dataframe\">\n",
       "  <thead>\n",
       "    <tr style=\"text-align: right;\">\n",
       "      <th></th>\n",
       "      <th>loan_amount</th>\n",
       "      <th>rate_of_interest</th>\n",
       "      <th>term</th>\n",
       "      <th>property_value</th>\n",
       "      <th>income</th>\n",
       "      <th>credit_score</th>\n",
       "      <th>status</th>\n",
       "      <th>dtir1</th>\n",
       "      <th>new</th>\n",
       "      <th>new1</th>\n",
       "      <th>loan_type_type2</th>\n",
       "      <th>loan_type_type3</th>\n",
       "      <th>age_35-44</th>\n",
       "      <th>age_45-54</th>\n",
       "      <th>age_55-64</th>\n",
       "      <th>age_65-74</th>\n",
       "      <th>age_&lt;25</th>\n",
       "      <th>age_&gt;74</th>\n",
       "    </tr>\n",
       "  </thead>\n",
       "  <tbody>\n",
       "    <tr>\n",
       "      <th>0</th>\n",
       "      <td>116500</td>\n",
       "      <td>4.045482</td>\n",
       "      <td>360.0</td>\n",
       "      <td>118000.000000</td>\n",
       "      <td>6957.392164</td>\n",
       "      <td>758</td>\n",
       "      <td>1</td>\n",
       "      <td>45.000000</td>\n",
       "      <td>3.994056</td>\n",
       "      <td>153.693931</td>\n",
       "      <td>0</td>\n",
       "      <td>0</td>\n",
       "      <td>0</td>\n",
       "      <td>0</td>\n",
       "      <td>0</td>\n",
       "      <td>0</td>\n",
       "      <td>0</td>\n",
       "      <td>0</td>\n",
       "    </tr>\n",
       "    <tr>\n",
       "      <th>1</th>\n",
       "      <td>206500</td>\n",
       "      <td>4.045482</td>\n",
       "      <td>360.0</td>\n",
       "      <td>497900.200647</td>\n",
       "      <td>6957.392164</td>\n",
       "      <td>552</td>\n",
       "      <td>1</td>\n",
       "      <td>37.732932</td>\n",
       "      <td>1.677830</td>\n",
       "      <td>374.094203</td>\n",
       "      <td>1</td>\n",
       "      <td>0</td>\n",
       "      <td>0</td>\n",
       "      <td>0</td>\n",
       "      <td>1</td>\n",
       "      <td>0</td>\n",
       "      <td>0</td>\n",
       "      <td>0</td>\n",
       "    </tr>\n",
       "    <tr>\n",
       "      <th>2</th>\n",
       "      <td>406500</td>\n",
       "      <td>4.560000</td>\n",
       "      <td>360.0</td>\n",
       "      <td>508000.000000</td>\n",
       "      <td>6957.392164</td>\n",
       "      <td>834</td>\n",
       "      <td>0</td>\n",
       "      <td>46.000000</td>\n",
       "      <td>3.648898</td>\n",
       "      <td>487.410072</td>\n",
       "      <td>0</td>\n",
       "      <td>0</td>\n",
       "      <td>1</td>\n",
       "      <td>0</td>\n",
       "      <td>0</td>\n",
       "      <td>0</td>\n",
       "      <td>0</td>\n",
       "      <td>0</td>\n",
       "    </tr>\n",
       "    <tr>\n",
       "      <th>3</th>\n",
       "      <td>456500</td>\n",
       "      <td>4.250000</td>\n",
       "      <td>360.0</td>\n",
       "      <td>658000.000000</td>\n",
       "      <td>6957.392164</td>\n",
       "      <td>587</td>\n",
       "      <td>0</td>\n",
       "      <td>42.000000</td>\n",
       "      <td>2.948518</td>\n",
       "      <td>777.683135</td>\n",
       "      <td>0</td>\n",
       "      <td>0</td>\n",
       "      <td>0</td>\n",
       "      <td>1</td>\n",
       "      <td>0</td>\n",
       "      <td>0</td>\n",
       "      <td>0</td>\n",
       "      <td>0</td>\n",
       "    </tr>\n",
       "    <tr>\n",
       "      <th>4</th>\n",
       "      <td>696500</td>\n",
       "      <td>4.045482</td>\n",
       "      <td>360.0</td>\n",
       "      <td>758000.000000</td>\n",
       "      <td>6957.392164</td>\n",
       "      <td>602</td>\n",
       "      <td>0</td>\n",
       "      <td>39.000000</td>\n",
       "      <td>3.717254</td>\n",
       "      <td>1156.976744</td>\n",
       "      <td>0</td>\n",
       "      <td>0</td>\n",
       "      <td>0</td>\n",
       "      <td>0</td>\n",
       "      <td>0</td>\n",
       "      <td>0</td>\n",
       "      <td>0</td>\n",
       "      <td>0</td>\n",
       "    </tr>\n",
       "  </tbody>\n",
       "</table>\n",
       "</div>"
      ],
      "text/plain": [
       "   loan_amount  rate_of_interest   term  property_value       income  \\\n",
       "0       116500          4.045482  360.0   118000.000000  6957.392164   \n",
       "1       206500          4.045482  360.0   497900.200647  6957.392164   \n",
       "2       406500          4.560000  360.0   508000.000000  6957.392164   \n",
       "3       456500          4.250000  360.0   658000.000000  6957.392164   \n",
       "4       696500          4.045482  360.0   758000.000000  6957.392164   \n",
       "\n",
       "   credit_score  status      dtir1       new         new1  loan_type_type2  \\\n",
       "0           758       1  45.000000  3.994056   153.693931                0   \n",
       "1           552       1  37.732932  1.677830   374.094203                1   \n",
       "2           834       0  46.000000  3.648898   487.410072                0   \n",
       "3           587       0  42.000000  2.948518   777.683135                0   \n",
       "4           602       0  39.000000  3.717254  1156.976744                0   \n",
       "\n",
       "   loan_type_type3  age_35-44  age_45-54  age_55-64  age_65-74  age_<25  \\\n",
       "0                0          0          0          0          0        0   \n",
       "1                0          0          0          1          0        0   \n",
       "2                0          1          0          0          0        0   \n",
       "3                0          0          1          0          0        0   \n",
       "4                0          0          0          0          0        0   \n",
       "\n",
       "   age_>74  \n",
       "0        0  \n",
       "1        0  \n",
       "2        0  \n",
       "3        0  \n",
       "4        0  "
      ]
     },
     "execution_count": 66,
     "metadata": {},
     "output_type": "execute_result"
    }
   ],
   "source": [
    "pd.set_option(\"display.max_columns\", df.shape[-1]) \n",
    "df.head()"
   ]
  },
  {
   "cell_type": "code",
   "execution_count": 67,
   "metadata": {
    "execution": {
     "iopub.execute_input": "2022-07-03T23:04:53.283509Z",
     "iopub.status.busy": "2022-07-03T23:04:53.283055Z",
     "iopub.status.idle": "2022-07-03T23:04:53.289827Z",
     "shell.execute_reply": "2022-07-03T23:04:53.289203Z",
     "shell.execute_reply.started": "2022-07-03T23:04:53.283469Z"
    }
   },
   "outputs": [
    {
     "data": {
      "text/plain": [
       "(148664, 18)"
      ]
     },
     "execution_count": 67,
     "metadata": {},
     "output_type": "execute_result"
    }
   ],
   "source": [
    "df.shape"
   ]
  },
  {
   "cell_type": "markdown",
   "metadata": {
    "execution": {
     "iopub.execute_input": "2022-07-03T23:04:58.727177Z",
     "iopub.status.busy": "2022-07-03T23:04:58.726828Z",
     "iopub.status.idle": "2022-07-03T23:04:58.73133Z",
     "shell.execute_reply": "2022-07-03T23:04:58.729865Z",
     "shell.execute_reply.started": "2022-07-03T23:04:58.727152Z"
    }
   },
   "source": [
    "# Data Split to Train and Test Sets"
   ]
  },
  {
   "cell_type": "code",
   "execution_count": 68,
   "metadata": {
    "execution": {
     "iopub.execute_input": "2022-07-03T23:05:02.168993Z",
     "iopub.status.busy": "2022-07-03T23:05:02.168545Z",
     "iopub.status.idle": "2022-07-03T23:05:02.181822Z",
     "shell.execute_reply": "2022-07-03T23:05:02.18108Z",
     "shell.execute_reply.started": "2022-07-03T23:05:02.168961Z"
    }
   },
   "outputs": [],
   "source": [
    "x = df.drop('status', axis=1)\n",
    "y = df['status']"
   ]
  },
  {
   "cell_type": "code",
   "execution_count": 69,
   "metadata": {
    "execution": {
     "iopub.execute_input": "2022-07-03T23:05:05.620641Z",
     "iopub.status.busy": "2022-07-03T23:05:05.620328Z",
     "iopub.status.idle": "2022-07-03T23:05:05.643962Z",
     "shell.execute_reply": "2022-07-03T23:05:05.642971Z",
     "shell.execute_reply.started": "2022-07-03T23:05:05.620618Z"
    }
   },
   "outputs": [
    {
     "data": {
      "text/html": [
       "<div>\n",
       "<style scoped>\n",
       "    .dataframe tbody tr th:only-of-type {\n",
       "        vertical-align: middle;\n",
       "    }\n",
       "\n",
       "    .dataframe tbody tr th {\n",
       "        vertical-align: top;\n",
       "    }\n",
       "\n",
       "    .dataframe thead th {\n",
       "        text-align: right;\n",
       "    }\n",
       "</style>\n",
       "<table border=\"1\" class=\"dataframe\">\n",
       "  <thead>\n",
       "    <tr style=\"text-align: right;\">\n",
       "      <th></th>\n",
       "      <th>loan_amount</th>\n",
       "      <th>rate_of_interest</th>\n",
       "      <th>term</th>\n",
       "      <th>property_value</th>\n",
       "      <th>income</th>\n",
       "      <th>credit_score</th>\n",
       "      <th>dtir1</th>\n",
       "      <th>new</th>\n",
       "      <th>new1</th>\n",
       "      <th>loan_type_type2</th>\n",
       "      <th>loan_type_type3</th>\n",
       "      <th>age_35-44</th>\n",
       "      <th>age_45-54</th>\n",
       "      <th>age_55-64</th>\n",
       "      <th>age_65-74</th>\n",
       "      <th>age_&lt;25</th>\n",
       "      <th>age_&gt;74</th>\n",
       "    </tr>\n",
       "  </thead>\n",
       "  <tbody>\n",
       "    <tr>\n",
       "      <th>0</th>\n",
       "      <td>116500</td>\n",
       "      <td>4.045482</td>\n",
       "      <td>360.0</td>\n",
       "      <td>118000.000000</td>\n",
       "      <td>6957.392164</td>\n",
       "      <td>758</td>\n",
       "      <td>45.000000</td>\n",
       "      <td>3.994056</td>\n",
       "      <td>153.693931</td>\n",
       "      <td>0</td>\n",
       "      <td>0</td>\n",
       "      <td>0</td>\n",
       "      <td>0</td>\n",
       "      <td>0</td>\n",
       "      <td>0</td>\n",
       "      <td>0</td>\n",
       "      <td>0</td>\n",
       "    </tr>\n",
       "    <tr>\n",
       "      <th>1</th>\n",
       "      <td>206500</td>\n",
       "      <td>4.045482</td>\n",
       "      <td>360.0</td>\n",
       "      <td>497900.200647</td>\n",
       "      <td>6957.392164</td>\n",
       "      <td>552</td>\n",
       "      <td>37.732932</td>\n",
       "      <td>1.677830</td>\n",
       "      <td>374.094203</td>\n",
       "      <td>1</td>\n",
       "      <td>0</td>\n",
       "      <td>0</td>\n",
       "      <td>0</td>\n",
       "      <td>1</td>\n",
       "      <td>0</td>\n",
       "      <td>0</td>\n",
       "      <td>0</td>\n",
       "    </tr>\n",
       "    <tr>\n",
       "      <th>2</th>\n",
       "      <td>406500</td>\n",
       "      <td>4.560000</td>\n",
       "      <td>360.0</td>\n",
       "      <td>508000.000000</td>\n",
       "      <td>6957.392164</td>\n",
       "      <td>834</td>\n",
       "      <td>46.000000</td>\n",
       "      <td>3.648898</td>\n",
       "      <td>487.410072</td>\n",
       "      <td>0</td>\n",
       "      <td>0</td>\n",
       "      <td>1</td>\n",
       "      <td>0</td>\n",
       "      <td>0</td>\n",
       "      <td>0</td>\n",
       "      <td>0</td>\n",
       "      <td>0</td>\n",
       "    </tr>\n",
       "    <tr>\n",
       "      <th>3</th>\n",
       "      <td>456500</td>\n",
       "      <td>4.250000</td>\n",
       "      <td>360.0</td>\n",
       "      <td>658000.000000</td>\n",
       "      <td>6957.392164</td>\n",
       "      <td>587</td>\n",
       "      <td>42.000000</td>\n",
       "      <td>2.948518</td>\n",
       "      <td>777.683135</td>\n",
       "      <td>0</td>\n",
       "      <td>0</td>\n",
       "      <td>0</td>\n",
       "      <td>1</td>\n",
       "      <td>0</td>\n",
       "      <td>0</td>\n",
       "      <td>0</td>\n",
       "      <td>0</td>\n",
       "    </tr>\n",
       "    <tr>\n",
       "      <th>4</th>\n",
       "      <td>696500</td>\n",
       "      <td>4.045482</td>\n",
       "      <td>360.0</td>\n",
       "      <td>758000.000000</td>\n",
       "      <td>6957.392164</td>\n",
       "      <td>602</td>\n",
       "      <td>39.000000</td>\n",
       "      <td>3.717254</td>\n",
       "      <td>1156.976744</td>\n",
       "      <td>0</td>\n",
       "      <td>0</td>\n",
       "      <td>0</td>\n",
       "      <td>0</td>\n",
       "      <td>0</td>\n",
       "      <td>0</td>\n",
       "      <td>0</td>\n",
       "      <td>0</td>\n",
       "    </tr>\n",
       "    <tr>\n",
       "      <th>...</th>\n",
       "      <td>...</td>\n",
       "      <td>...</td>\n",
       "      <td>...</td>\n",
       "      <td>...</td>\n",
       "      <td>...</td>\n",
       "      <td>...</td>\n",
       "      <td>...</td>\n",
       "      <td>...</td>\n",
       "      <td>...</td>\n",
       "      <td>...</td>\n",
       "      <td>...</td>\n",
       "      <td>...</td>\n",
       "      <td>...</td>\n",
       "      <td>...</td>\n",
       "      <td>...</td>\n",
       "      <td>...</td>\n",
       "      <td>...</td>\n",
       "    </tr>\n",
       "    <tr>\n",
       "      <th>148665</th>\n",
       "      <td>436500</td>\n",
       "      <td>3.125000</td>\n",
       "      <td>180.0</td>\n",
       "      <td>608000.000000</td>\n",
       "      <td>6957.392164</td>\n",
       "      <td>659</td>\n",
       "      <td>48.000000</td>\n",
       "      <td>2.243524</td>\n",
       "      <td>662.367223</td>\n",
       "      <td>0</td>\n",
       "      <td>0</td>\n",
       "      <td>0</td>\n",
       "      <td>0</td>\n",
       "      <td>1</td>\n",
       "      <td>0</td>\n",
       "      <td>0</td>\n",
       "      <td>0</td>\n",
       "    </tr>\n",
       "    <tr>\n",
       "      <th>148666</th>\n",
       "      <td>586500</td>\n",
       "      <td>5.190000</td>\n",
       "      <td>360.0</td>\n",
       "      <td>788000.000000</td>\n",
       "      <td>6957.392164</td>\n",
       "      <td>569</td>\n",
       "      <td>15.000000</td>\n",
       "      <td>3.862862</td>\n",
       "      <td>1030.755712</td>\n",
       "      <td>0</td>\n",
       "      <td>0</td>\n",
       "      <td>0</td>\n",
       "      <td>0</td>\n",
       "      <td>0</td>\n",
       "      <td>0</td>\n",
       "      <td>0</td>\n",
       "      <td>0</td>\n",
       "    </tr>\n",
       "    <tr>\n",
       "      <th>148667</th>\n",
       "      <td>446500</td>\n",
       "      <td>3.125000</td>\n",
       "      <td>180.0</td>\n",
       "      <td>728000.000000</td>\n",
       "      <td>6957.392164</td>\n",
       "      <td>702</td>\n",
       "      <td>49.000000</td>\n",
       "      <td>1.916638</td>\n",
       "      <td>636.039886</td>\n",
       "      <td>0</td>\n",
       "      <td>0</td>\n",
       "      <td>0</td>\n",
       "      <td>1</td>\n",
       "      <td>0</td>\n",
       "      <td>0</td>\n",
       "      <td>0</td>\n",
       "      <td>0</td>\n",
       "    </tr>\n",
       "    <tr>\n",
       "      <th>148668</th>\n",
       "      <td>196500</td>\n",
       "      <td>3.500000</td>\n",
       "      <td>180.0</td>\n",
       "      <td>278000.000000</td>\n",
       "      <td>6957.392164</td>\n",
       "      <td>737</td>\n",
       "      <td>29.000000</td>\n",
       "      <td>2.473921</td>\n",
       "      <td>266.621438</td>\n",
       "      <td>0</td>\n",
       "      <td>0</td>\n",
       "      <td>0</td>\n",
       "      <td>0</td>\n",
       "      <td>1</td>\n",
       "      <td>0</td>\n",
       "      <td>0</td>\n",
       "      <td>0</td>\n",
       "    </tr>\n",
       "    <tr>\n",
       "      <th>148669</th>\n",
       "      <td>406500</td>\n",
       "      <td>4.375000</td>\n",
       "      <td>240.0</td>\n",
       "      <td>558000.000000</td>\n",
       "      <td>6957.392164</td>\n",
       "      <td>830</td>\n",
       "      <td>44.000000</td>\n",
       "      <td>3.187164</td>\n",
       "      <td>489.759036</td>\n",
       "      <td>0</td>\n",
       "      <td>0</td>\n",
       "      <td>0</td>\n",
       "      <td>1</td>\n",
       "      <td>0</td>\n",
       "      <td>0</td>\n",
       "      <td>0</td>\n",
       "      <td>0</td>\n",
       "    </tr>\n",
       "  </tbody>\n",
       "</table>\n",
       "<p>148664 rows × 17 columns</p>\n",
       "</div>"
      ],
      "text/plain": [
       "        loan_amount  rate_of_interest   term  property_value       income  \\\n",
       "0            116500          4.045482  360.0   118000.000000  6957.392164   \n",
       "1            206500          4.045482  360.0   497900.200647  6957.392164   \n",
       "2            406500          4.560000  360.0   508000.000000  6957.392164   \n",
       "3            456500          4.250000  360.0   658000.000000  6957.392164   \n",
       "4            696500          4.045482  360.0   758000.000000  6957.392164   \n",
       "...             ...               ...    ...             ...          ...   \n",
       "148665       436500          3.125000  180.0   608000.000000  6957.392164   \n",
       "148666       586500          5.190000  360.0   788000.000000  6957.392164   \n",
       "148667       446500          3.125000  180.0   728000.000000  6957.392164   \n",
       "148668       196500          3.500000  180.0   278000.000000  6957.392164   \n",
       "148669       406500          4.375000  240.0   558000.000000  6957.392164   \n",
       "\n",
       "        credit_score      dtir1       new         new1  loan_type_type2  \\\n",
       "0                758  45.000000  3.994056   153.693931                0   \n",
       "1                552  37.732932  1.677830   374.094203                1   \n",
       "2                834  46.000000  3.648898   487.410072                0   \n",
       "3                587  42.000000  2.948518   777.683135                0   \n",
       "4                602  39.000000  3.717254  1156.976744                0   \n",
       "...              ...        ...       ...          ...              ...   \n",
       "148665           659  48.000000  2.243524   662.367223                0   \n",
       "148666           569  15.000000  3.862862  1030.755712                0   \n",
       "148667           702  49.000000  1.916638   636.039886                0   \n",
       "148668           737  29.000000  2.473921   266.621438                0   \n",
       "148669           830  44.000000  3.187164   489.759036                0   \n",
       "\n",
       "        loan_type_type3  age_35-44  age_45-54  age_55-64  age_65-74  age_<25  \\\n",
       "0                     0          0          0          0          0        0   \n",
       "1                     0          0          0          1          0        0   \n",
       "2                     0          1          0          0          0        0   \n",
       "3                     0          0          1          0          0        0   \n",
       "4                     0          0          0          0          0        0   \n",
       "...                 ...        ...        ...        ...        ...      ...   \n",
       "148665                0          0          0          1          0        0   \n",
       "148666                0          0          0          0          0        0   \n",
       "148667                0          0          1          0          0        0   \n",
       "148668                0          0          0          1          0        0   \n",
       "148669                0          0          1          0          0        0   \n",
       "\n",
       "        age_>74  \n",
       "0             0  \n",
       "1             0  \n",
       "2             0  \n",
       "3             0  \n",
       "4             0  \n",
       "...         ...  \n",
       "148665        0  \n",
       "148666        0  \n",
       "148667        0  \n",
       "148668        0  \n",
       "148669        0  \n",
       "\n",
       "[148664 rows x 17 columns]"
      ]
     },
     "execution_count": 69,
     "metadata": {},
     "output_type": "execute_result"
    }
   ],
   "source": [
    "x"
   ]
  },
  {
   "cell_type": "code",
   "execution_count": 70,
   "metadata": {
    "execution": {
     "iopub.execute_input": "2022-07-03T23:05:09.590671Z",
     "iopub.status.busy": "2022-07-03T23:05:09.590363Z",
     "iopub.status.idle": "2022-07-03T23:05:09.598383Z",
     "shell.execute_reply": "2022-07-03T23:05:09.597643Z",
     "shell.execute_reply.started": "2022-07-03T23:05:09.590648Z"
    }
   },
   "outputs": [
    {
     "data": {
      "text/plain": [
       "0         1\n",
       "1         1\n",
       "2         0\n",
       "3         0\n",
       "4         0\n",
       "         ..\n",
       "148665    0\n",
       "148666    0\n",
       "148667    0\n",
       "148668    0\n",
       "148669    0\n",
       "Name: status, Length: 148664, dtype: int64"
      ]
     },
     "execution_count": 70,
     "metadata": {},
     "output_type": "execute_result"
    }
   ],
   "source": [
    "y"
   ]
  },
  {
   "cell_type": "code",
   "execution_count": 71,
   "metadata": {
    "execution": {
     "iopub.execute_input": "2022-07-03T23:05:13.268473Z",
     "iopub.status.busy": "2022-07-03T23:05:13.267989Z",
     "iopub.status.idle": "2022-07-03T23:05:13.276162Z",
     "shell.execute_reply": "2022-07-03T23:05:13.275293Z",
     "shell.execute_reply.started": "2022-07-03T23:05:13.268436Z"
    }
   },
   "outputs": [
    {
     "data": {
      "text/plain": [
       "(148664, 17)"
      ]
     },
     "execution_count": 71,
     "metadata": {},
     "output_type": "execute_result"
    }
   ],
   "source": [
    "x.shape"
   ]
  },
  {
   "cell_type": "code",
   "execution_count": 72,
   "metadata": {
    "execution": {
     "iopub.execute_input": "2022-07-03T23:05:17.471406Z",
     "iopub.status.busy": "2022-07-03T23:05:17.470739Z",
     "iopub.status.idle": "2022-07-03T23:05:17.478486Z",
     "shell.execute_reply": "2022-07-03T23:05:17.477589Z",
     "shell.execute_reply.started": "2022-07-03T23:05:17.471372Z"
    }
   },
   "outputs": [
    {
     "data": {
      "text/plain": [
       "(148664,)"
      ]
     },
     "execution_count": 72,
     "metadata": {},
     "output_type": "execute_result"
    }
   ],
   "source": [
    "y.shape"
   ]
  },
  {
   "cell_type": "code",
   "execution_count": 73,
   "metadata": {
    "execution": {
     "iopub.execute_input": "2022-07-03T23:05:21.185913Z",
     "iopub.status.busy": "2022-07-03T23:05:21.184616Z",
     "iopub.status.idle": "2022-07-03T23:05:21.236336Z",
     "shell.execute_reply": "2022-07-03T23:05:21.235179Z",
     "shell.execute_reply.started": "2022-07-03T23:05:21.185854Z"
    }
   },
   "outputs": [],
   "source": [
    "x_train, x_test, y_train, y_test = train_test_split(x, y, test_size=.2)"
   ]
  },
  {
   "cell_type": "code",
   "execution_count": 74,
   "metadata": {
    "execution": {
     "iopub.execute_input": "2022-07-03T23:05:25.397824Z",
     "iopub.status.busy": "2022-07-03T23:05:25.397445Z",
     "iopub.status.idle": "2022-07-03T23:05:25.422249Z",
     "shell.execute_reply": "2022-07-03T23:05:25.42123Z",
     "shell.execute_reply.started": "2022-07-03T23:05:25.397793Z"
    }
   },
   "outputs": [
    {
     "data": {
      "text/html": [
       "<div>\n",
       "<style scoped>\n",
       "    .dataframe tbody tr th:only-of-type {\n",
       "        vertical-align: middle;\n",
       "    }\n",
       "\n",
       "    .dataframe tbody tr th {\n",
       "        vertical-align: top;\n",
       "    }\n",
       "\n",
       "    .dataframe thead th {\n",
       "        text-align: right;\n",
       "    }\n",
       "</style>\n",
       "<table border=\"1\" class=\"dataframe\">\n",
       "  <thead>\n",
       "    <tr style=\"text-align: right;\">\n",
       "      <th></th>\n",
       "      <th>loan_amount</th>\n",
       "      <th>rate_of_interest</th>\n",
       "      <th>term</th>\n",
       "      <th>property_value</th>\n",
       "      <th>income</th>\n",
       "      <th>credit_score</th>\n",
       "      <th>dtir1</th>\n",
       "      <th>new</th>\n",
       "      <th>new1</th>\n",
       "      <th>loan_type_type2</th>\n",
       "      <th>loan_type_type3</th>\n",
       "      <th>age_35-44</th>\n",
       "      <th>age_45-54</th>\n",
       "      <th>age_55-64</th>\n",
       "      <th>age_65-74</th>\n",
       "      <th>age_&lt;25</th>\n",
       "      <th>age_&gt;74</th>\n",
       "    </tr>\n",
       "  </thead>\n",
       "  <tbody>\n",
       "    <tr>\n",
       "      <th>121129</th>\n",
       "      <td>486500</td>\n",
       "      <td>4.045482</td>\n",
       "      <td>360.0</td>\n",
       "      <td>488000.0</td>\n",
       "      <td>6957.392164</td>\n",
       "      <td>855</td>\n",
       "      <td>44.0</td>\n",
       "      <td>4.033047</td>\n",
       "      <td>569.005848</td>\n",
       "      <td>0</td>\n",
       "      <td>1</td>\n",
       "      <td>1</td>\n",
       "      <td>0</td>\n",
       "      <td>0</td>\n",
       "      <td>0</td>\n",
       "      <td>0</td>\n",
       "      <td>0</td>\n",
       "    </tr>\n",
       "    <tr>\n",
       "      <th>77261</th>\n",
       "      <td>306500</td>\n",
       "      <td>3.990000</td>\n",
       "      <td>360.0</td>\n",
       "      <td>378000.0</td>\n",
       "      <td>6957.392164</td>\n",
       "      <td>772</td>\n",
       "      <td>44.0</td>\n",
       "      <td>3.235278</td>\n",
       "      <td>397.020725</td>\n",
       "      <td>0</td>\n",
       "      <td>0</td>\n",
       "      <td>0</td>\n",
       "      <td>1</td>\n",
       "      <td>0</td>\n",
       "      <td>0</td>\n",
       "      <td>0</td>\n",
       "      <td>0</td>\n",
       "    </tr>\n",
       "    <tr>\n",
       "      <th>20831</th>\n",
       "      <td>276500</td>\n",
       "      <td>4.500000</td>\n",
       "      <td>360.0</td>\n",
       "      <td>348000.0</td>\n",
       "      <td>6957.392164</td>\n",
       "      <td>559</td>\n",
       "      <td>40.0</td>\n",
       "      <td>3.575431</td>\n",
       "      <td>494.633274</td>\n",
       "      <td>0</td>\n",
       "      <td>0</td>\n",
       "      <td>1</td>\n",
       "      <td>0</td>\n",
       "      <td>0</td>\n",
       "      <td>0</td>\n",
       "      <td>0</td>\n",
       "      <td>0</td>\n",
       "    </tr>\n",
       "    <tr>\n",
       "      <th>127668</th>\n",
       "      <td>106500</td>\n",
       "      <td>4.500000</td>\n",
       "      <td>360.0</td>\n",
       "      <td>258000.0</td>\n",
       "      <td>6957.392164</td>\n",
       "      <td>710</td>\n",
       "      <td>44.0</td>\n",
       "      <td>1.857558</td>\n",
       "      <td>150.000000</td>\n",
       "      <td>0</td>\n",
       "      <td>0</td>\n",
       "      <td>0</td>\n",
       "      <td>0</td>\n",
       "      <td>0</td>\n",
       "      <td>0</td>\n",
       "      <td>0</td>\n",
       "      <td>1</td>\n",
       "    </tr>\n",
       "    <tr>\n",
       "      <th>61853</th>\n",
       "      <td>116500</td>\n",
       "      <td>3.990000</td>\n",
       "      <td>360.0</td>\n",
       "      <td>138000.0</td>\n",
       "      <td>6957.392164</td>\n",
       "      <td>783</td>\n",
       "      <td>45.0</td>\n",
       "      <td>3.368370</td>\n",
       "      <td>148.786718</td>\n",
       "      <td>1</td>\n",
       "      <td>0</td>\n",
       "      <td>0</td>\n",
       "      <td>0</td>\n",
       "      <td>0</td>\n",
       "      <td>1</td>\n",
       "      <td>0</td>\n",
       "      <td>0</td>\n",
       "    </tr>\n",
       "    <tr>\n",
       "      <th>...</th>\n",
       "      <td>...</td>\n",
       "      <td>...</td>\n",
       "      <td>...</td>\n",
       "      <td>...</td>\n",
       "      <td>...</td>\n",
       "      <td>...</td>\n",
       "      <td>...</td>\n",
       "      <td>...</td>\n",
       "      <td>...</td>\n",
       "      <td>...</td>\n",
       "      <td>...</td>\n",
       "      <td>...</td>\n",
       "      <td>...</td>\n",
       "      <td>...</td>\n",
       "      <td>...</td>\n",
       "      <td>...</td>\n",
       "      <td>...</td>\n",
       "    </tr>\n",
       "    <tr>\n",
       "      <th>12620</th>\n",
       "      <td>206500</td>\n",
       "      <td>3.625000</td>\n",
       "      <td>180.0</td>\n",
       "      <td>468000.0</td>\n",
       "      <td>6957.392164</td>\n",
       "      <td>724</td>\n",
       "      <td>39.0</td>\n",
       "      <td>1.599493</td>\n",
       "      <td>285.220994</td>\n",
       "      <td>0</td>\n",
       "      <td>0</td>\n",
       "      <td>0</td>\n",
       "      <td>0</td>\n",
       "      <td>0</td>\n",
       "      <td>1</td>\n",
       "      <td>0</td>\n",
       "      <td>0</td>\n",
       "    </tr>\n",
       "    <tr>\n",
       "      <th>139786</th>\n",
       "      <td>286500</td>\n",
       "      <td>3.875000</td>\n",
       "      <td>360.0</td>\n",
       "      <td>358000.0</td>\n",
       "      <td>6957.392164</td>\n",
       "      <td>797</td>\n",
       "      <td>47.0</td>\n",
       "      <td>3.101082</td>\n",
       "      <td>359.473024</td>\n",
       "      <td>0</td>\n",
       "      <td>0</td>\n",
       "      <td>0</td>\n",
       "      <td>1</td>\n",
       "      <td>0</td>\n",
       "      <td>0</td>\n",
       "      <td>0</td>\n",
       "      <td>0</td>\n",
       "    </tr>\n",
       "    <tr>\n",
       "      <th>50353</th>\n",
       "      <td>336500</td>\n",
       "      <td>4.045482</td>\n",
       "      <td>360.0</td>\n",
       "      <td>448000.0</td>\n",
       "      <td>6957.392164</td>\n",
       "      <td>855</td>\n",
       "      <td>42.0</td>\n",
       "      <td>3.038627</td>\n",
       "      <td>393.567251</td>\n",
       "      <td>0</td>\n",
       "      <td>0</td>\n",
       "      <td>0</td>\n",
       "      <td>0</td>\n",
       "      <td>0</td>\n",
       "      <td>0</td>\n",
       "      <td>0</td>\n",
       "      <td>0</td>\n",
       "    </tr>\n",
       "    <tr>\n",
       "      <th>61519</th>\n",
       "      <td>206500</td>\n",
       "      <td>3.250000</td>\n",
       "      <td>360.0</td>\n",
       "      <td>548000.0</td>\n",
       "      <td>6957.392164</td>\n",
       "      <td>699</td>\n",
       "      <td>45.0</td>\n",
       "      <td>1.224681</td>\n",
       "      <td>295.422031</td>\n",
       "      <td>0</td>\n",
       "      <td>0</td>\n",
       "      <td>0</td>\n",
       "      <td>1</td>\n",
       "      <td>0</td>\n",
       "      <td>0</td>\n",
       "      <td>0</td>\n",
       "      <td>0</td>\n",
       "    </tr>\n",
       "    <tr>\n",
       "      <th>7614</th>\n",
       "      <td>356500</td>\n",
       "      <td>4.375000</td>\n",
       "      <td>360.0</td>\n",
       "      <td>518000.0</td>\n",
       "      <td>6957.392164</td>\n",
       "      <td>728</td>\n",
       "      <td>49.0</td>\n",
       "      <td>3.010980</td>\n",
       "      <td>489.697802</td>\n",
       "      <td>0</td>\n",
       "      <td>0</td>\n",
       "      <td>0</td>\n",
       "      <td>0</td>\n",
       "      <td>1</td>\n",
       "      <td>0</td>\n",
       "      <td>0</td>\n",
       "      <td>0</td>\n",
       "    </tr>\n",
       "  </tbody>\n",
       "</table>\n",
       "<p>118931 rows × 17 columns</p>\n",
       "</div>"
      ],
      "text/plain": [
       "        loan_amount  rate_of_interest   term  property_value       income  \\\n",
       "121129       486500          4.045482  360.0        488000.0  6957.392164   \n",
       "77261        306500          3.990000  360.0        378000.0  6957.392164   \n",
       "20831        276500          4.500000  360.0        348000.0  6957.392164   \n",
       "127668       106500          4.500000  360.0        258000.0  6957.392164   \n",
       "61853        116500          3.990000  360.0        138000.0  6957.392164   \n",
       "...             ...               ...    ...             ...          ...   \n",
       "12620        206500          3.625000  180.0        468000.0  6957.392164   \n",
       "139786       286500          3.875000  360.0        358000.0  6957.392164   \n",
       "50353        336500          4.045482  360.0        448000.0  6957.392164   \n",
       "61519        206500          3.250000  360.0        548000.0  6957.392164   \n",
       "7614         356500          4.375000  360.0        518000.0  6957.392164   \n",
       "\n",
       "        credit_score  dtir1       new        new1  loan_type_type2  \\\n",
       "121129           855   44.0  4.033047  569.005848                0   \n",
       "77261            772   44.0  3.235278  397.020725                0   \n",
       "20831            559   40.0  3.575431  494.633274                0   \n",
       "127668           710   44.0  1.857558  150.000000                0   \n",
       "61853            783   45.0  3.368370  148.786718                1   \n",
       "...              ...    ...       ...         ...              ...   \n",
       "12620            724   39.0  1.599493  285.220994                0   \n",
       "139786           797   47.0  3.101082  359.473024                0   \n",
       "50353            855   42.0  3.038627  393.567251                0   \n",
       "61519            699   45.0  1.224681  295.422031                0   \n",
       "7614             728   49.0  3.010980  489.697802                0   \n",
       "\n",
       "        loan_type_type3  age_35-44  age_45-54  age_55-64  age_65-74  age_<25  \\\n",
       "121129                1          1          0          0          0        0   \n",
       "77261                 0          0          1          0          0        0   \n",
       "20831                 0          1          0          0          0        0   \n",
       "127668                0          0          0          0          0        0   \n",
       "61853                 0          0          0          0          1        0   \n",
       "...                 ...        ...        ...        ...        ...      ...   \n",
       "12620                 0          0          0          0          1        0   \n",
       "139786                0          0          1          0          0        0   \n",
       "50353                 0          0          0          0          0        0   \n",
       "61519                 0          0          1          0          0        0   \n",
       "7614                  0          0          0          1          0        0   \n",
       "\n",
       "        age_>74  \n",
       "121129        0  \n",
       "77261         0  \n",
       "20831         0  \n",
       "127668        1  \n",
       "61853         0  \n",
       "...         ...  \n",
       "12620         0  \n",
       "139786        0  \n",
       "50353         0  \n",
       "61519         0  \n",
       "7614          0  \n",
       "\n",
       "[118931 rows x 17 columns]"
      ]
     },
     "execution_count": 74,
     "metadata": {},
     "output_type": "execute_result"
    }
   ],
   "source": [
    "x_train"
   ]
  },
  {
   "cell_type": "code",
   "execution_count": 75,
   "metadata": {
    "execution": {
     "iopub.execute_input": "2022-07-03T23:05:30.377902Z",
     "iopub.status.busy": "2022-07-03T23:05:30.37742Z",
     "iopub.status.idle": "2022-07-03T23:05:30.385653Z",
     "shell.execute_reply": "2022-07-03T23:05:30.384626Z",
     "shell.execute_reply.started": "2022-07-03T23:05:30.377853Z"
    }
   },
   "outputs": [
    {
     "data": {
      "text/plain": [
       "(118931, 17)"
      ]
     },
     "execution_count": 75,
     "metadata": {},
     "output_type": "execute_result"
    }
   ],
   "source": [
    "x_train.shape"
   ]
  },
  {
   "cell_type": "code",
   "execution_count": 76,
   "metadata": {
    "execution": {
     "iopub.execute_input": "2022-07-03T23:05:34.2043Z",
     "iopub.status.busy": "2022-07-03T23:05:34.203949Z",
     "iopub.status.idle": "2022-07-03T23:05:34.228988Z",
     "shell.execute_reply": "2022-07-03T23:05:34.228104Z",
     "shell.execute_reply.started": "2022-07-03T23:05:34.204271Z"
    }
   },
   "outputs": [
    {
     "data": {
      "text/html": [
       "<div>\n",
       "<style scoped>\n",
       "    .dataframe tbody tr th:only-of-type {\n",
       "        vertical-align: middle;\n",
       "    }\n",
       "\n",
       "    .dataframe tbody tr th {\n",
       "        vertical-align: top;\n",
       "    }\n",
       "\n",
       "    .dataframe thead th {\n",
       "        text-align: right;\n",
       "    }\n",
       "</style>\n",
       "<table border=\"1\" class=\"dataframe\">\n",
       "  <thead>\n",
       "    <tr style=\"text-align: right;\">\n",
       "      <th></th>\n",
       "      <th>loan_amount</th>\n",
       "      <th>rate_of_interest</th>\n",
       "      <th>term</th>\n",
       "      <th>property_value</th>\n",
       "      <th>income</th>\n",
       "      <th>credit_score</th>\n",
       "      <th>dtir1</th>\n",
       "      <th>new</th>\n",
       "      <th>new1</th>\n",
       "      <th>loan_type_type2</th>\n",
       "      <th>loan_type_type3</th>\n",
       "      <th>age_35-44</th>\n",
       "      <th>age_45-54</th>\n",
       "      <th>age_55-64</th>\n",
       "      <th>age_65-74</th>\n",
       "      <th>age_&lt;25</th>\n",
       "      <th>age_&gt;74</th>\n",
       "    </tr>\n",
       "  </thead>\n",
       "  <tbody>\n",
       "    <tr>\n",
       "      <th>84480</th>\n",
       "      <td>386500</td>\n",
       "      <td>3.375000</td>\n",
       "      <td>360.0</td>\n",
       "      <td>408000.0</td>\n",
       "      <td>6957.392164</td>\n",
       "      <td>838</td>\n",
       "      <td>31.000000</td>\n",
       "      <td>3.197151</td>\n",
       "      <td>461.217184</td>\n",
       "      <td>0</td>\n",
       "      <td>1</td>\n",
       "      <td>0</td>\n",
       "      <td>1</td>\n",
       "      <td>0</td>\n",
       "      <td>0</td>\n",
       "      <td>0</td>\n",
       "      <td>0</td>\n",
       "    </tr>\n",
       "    <tr>\n",
       "      <th>99447</th>\n",
       "      <td>236500</td>\n",
       "      <td>3.375000</td>\n",
       "      <td>240.0</td>\n",
       "      <td>558000.0</td>\n",
       "      <td>6957.392164</td>\n",
       "      <td>617</td>\n",
       "      <td>48.000000</td>\n",
       "      <td>1.430444</td>\n",
       "      <td>383.306321</td>\n",
       "      <td>0</td>\n",
       "      <td>0</td>\n",
       "      <td>0</td>\n",
       "      <td>1</td>\n",
       "      <td>0</td>\n",
       "      <td>0</td>\n",
       "      <td>0</td>\n",
       "      <td>0</td>\n",
       "    </tr>\n",
       "    <tr>\n",
       "      <th>97510</th>\n",
       "      <td>266500</td>\n",
       "      <td>4.045482</td>\n",
       "      <td>360.0</td>\n",
       "      <td>278000.0</td>\n",
       "      <td>6957.392164</td>\n",
       "      <td>758</td>\n",
       "      <td>49.000000</td>\n",
       "      <td>3.878133</td>\n",
       "      <td>351.583113</td>\n",
       "      <td>0</td>\n",
       "      <td>0</td>\n",
       "      <td>0</td>\n",
       "      <td>1</td>\n",
       "      <td>0</td>\n",
       "      <td>0</td>\n",
       "      <td>0</td>\n",
       "      <td>0</td>\n",
       "    </tr>\n",
       "    <tr>\n",
       "      <th>96311</th>\n",
       "      <td>216500</td>\n",
       "      <td>3.990000</td>\n",
       "      <td>360.0</td>\n",
       "      <td>238000.0</td>\n",
       "      <td>6957.392164</td>\n",
       "      <td>690</td>\n",
       "      <td>43.000000</td>\n",
       "      <td>3.629559</td>\n",
       "      <td>313.768116</td>\n",
       "      <td>0</td>\n",
       "      <td>0</td>\n",
       "      <td>0</td>\n",
       "      <td>0</td>\n",
       "      <td>0</td>\n",
       "      <td>0</td>\n",
       "      <td>0</td>\n",
       "      <td>0</td>\n",
       "    </tr>\n",
       "    <tr>\n",
       "      <th>71674</th>\n",
       "      <td>176500</td>\n",
       "      <td>4.180000</td>\n",
       "      <td>360.0</td>\n",
       "      <td>228000.0</td>\n",
       "      <td>6957.392164</td>\n",
       "      <td>551</td>\n",
       "      <td>28.000000</td>\n",
       "      <td>3.235833</td>\n",
       "      <td>320.326679</td>\n",
       "      <td>0</td>\n",
       "      <td>0</td>\n",
       "      <td>0</td>\n",
       "      <td>1</td>\n",
       "      <td>0</td>\n",
       "      <td>0</td>\n",
       "      <td>0</td>\n",
       "      <td>0</td>\n",
       "    </tr>\n",
       "    <tr>\n",
       "      <th>...</th>\n",
       "      <td>...</td>\n",
       "      <td>...</td>\n",
       "      <td>...</td>\n",
       "      <td>...</td>\n",
       "      <td>...</td>\n",
       "      <td>...</td>\n",
       "      <td>...</td>\n",
       "      <td>...</td>\n",
       "      <td>...</td>\n",
       "      <td>...</td>\n",
       "      <td>...</td>\n",
       "      <td>...</td>\n",
       "      <td>...</td>\n",
       "      <td>...</td>\n",
       "      <td>...</td>\n",
       "      <td>...</td>\n",
       "      <td>...</td>\n",
       "    </tr>\n",
       "    <tr>\n",
       "      <th>102527</th>\n",
       "      <td>426500</td>\n",
       "      <td>4.250000</td>\n",
       "      <td>324.0</td>\n",
       "      <td>708000.0</td>\n",
       "      <td>6957.392164</td>\n",
       "      <td>778</td>\n",
       "      <td>44.000000</td>\n",
       "      <td>2.560205</td>\n",
       "      <td>548.200514</td>\n",
       "      <td>0</td>\n",
       "      <td>0</td>\n",
       "      <td>0</td>\n",
       "      <td>0</td>\n",
       "      <td>1</td>\n",
       "      <td>0</td>\n",
       "      <td>0</td>\n",
       "      <td>0</td>\n",
       "    </tr>\n",
       "    <tr>\n",
       "      <th>64443</th>\n",
       "      <td>406500</td>\n",
       "      <td>3.875000</td>\n",
       "      <td>360.0</td>\n",
       "      <td>978000.0</td>\n",
       "      <td>6957.392164</td>\n",
       "      <td>846</td>\n",
       "      <td>38.000000</td>\n",
       "      <td>1.610621</td>\n",
       "      <td>480.496454</td>\n",
       "      <td>0</td>\n",
       "      <td>0</td>\n",
       "      <td>0</td>\n",
       "      <td>0</td>\n",
       "      <td>0</td>\n",
       "      <td>1</td>\n",
       "      <td>0</td>\n",
       "      <td>0</td>\n",
       "    </tr>\n",
       "    <tr>\n",
       "      <th>12220</th>\n",
       "      <td>296500</td>\n",
       "      <td>3.500000</td>\n",
       "      <td>360.0</td>\n",
       "      <td>328000.0</td>\n",
       "      <td>6957.392164</td>\n",
       "      <td>560</td>\n",
       "      <td>37.732932</td>\n",
       "      <td>3.163872</td>\n",
       "      <td>529.464286</td>\n",
       "      <td>1</td>\n",
       "      <td>0</td>\n",
       "      <td>0</td>\n",
       "      <td>1</td>\n",
       "      <td>0</td>\n",
       "      <td>0</td>\n",
       "      <td>0</td>\n",
       "      <td>0</td>\n",
       "    </tr>\n",
       "    <tr>\n",
       "      <th>4532</th>\n",
       "      <td>326500</td>\n",
       "      <td>3.990000</td>\n",
       "      <td>180.0</td>\n",
       "      <td>398000.0</td>\n",
       "      <td>6957.392164</td>\n",
       "      <td>546</td>\n",
       "      <td>21.000000</td>\n",
       "      <td>3.273204</td>\n",
       "      <td>597.985348</td>\n",
       "      <td>0</td>\n",
       "      <td>0</td>\n",
       "      <td>0</td>\n",
       "      <td>1</td>\n",
       "      <td>0</td>\n",
       "      <td>0</td>\n",
       "      <td>0</td>\n",
       "      <td>0</td>\n",
       "    </tr>\n",
       "    <tr>\n",
       "      <th>126429</th>\n",
       "      <td>206500</td>\n",
       "      <td>3.250000</td>\n",
       "      <td>180.0</td>\n",
       "      <td>328000.0</td>\n",
       "      <td>6957.392164</td>\n",
       "      <td>626</td>\n",
       "      <td>32.000000</td>\n",
       "      <td>2.046113</td>\n",
       "      <td>329.872204</td>\n",
       "      <td>0</td>\n",
       "      <td>0</td>\n",
       "      <td>0</td>\n",
       "      <td>1</td>\n",
       "      <td>0</td>\n",
       "      <td>0</td>\n",
       "      <td>0</td>\n",
       "      <td>0</td>\n",
       "    </tr>\n",
       "  </tbody>\n",
       "</table>\n",
       "<p>29733 rows × 17 columns</p>\n",
       "</div>"
      ],
      "text/plain": [
       "        loan_amount  rate_of_interest   term  property_value       income  \\\n",
       "84480        386500          3.375000  360.0        408000.0  6957.392164   \n",
       "99447        236500          3.375000  240.0        558000.0  6957.392164   \n",
       "97510        266500          4.045482  360.0        278000.0  6957.392164   \n",
       "96311        216500          3.990000  360.0        238000.0  6957.392164   \n",
       "71674        176500          4.180000  360.0        228000.0  6957.392164   \n",
       "...             ...               ...    ...             ...          ...   \n",
       "102527       426500          4.250000  324.0        708000.0  6957.392164   \n",
       "64443        406500          3.875000  360.0        978000.0  6957.392164   \n",
       "12220        296500          3.500000  360.0        328000.0  6957.392164   \n",
       "4532         326500          3.990000  180.0        398000.0  6957.392164   \n",
       "126429       206500          3.250000  180.0        328000.0  6957.392164   \n",
       "\n",
       "        credit_score      dtir1       new        new1  loan_type_type2  \\\n",
       "84480            838  31.000000  3.197151  461.217184                0   \n",
       "99447            617  48.000000  1.430444  383.306321                0   \n",
       "97510            758  49.000000  3.878133  351.583113                0   \n",
       "96311            690  43.000000  3.629559  313.768116                0   \n",
       "71674            551  28.000000  3.235833  320.326679                0   \n",
       "...              ...        ...       ...         ...              ...   \n",
       "102527           778  44.000000  2.560205  548.200514                0   \n",
       "64443            846  38.000000  1.610621  480.496454                0   \n",
       "12220            560  37.732932  3.163872  529.464286                1   \n",
       "4532             546  21.000000  3.273204  597.985348                0   \n",
       "126429           626  32.000000  2.046113  329.872204                0   \n",
       "\n",
       "        loan_type_type3  age_35-44  age_45-54  age_55-64  age_65-74  age_<25  \\\n",
       "84480                 1          0          1          0          0        0   \n",
       "99447                 0          0          1          0          0        0   \n",
       "97510                 0          0          1          0          0        0   \n",
       "96311                 0          0          0          0          0        0   \n",
       "71674                 0          0          1          0          0        0   \n",
       "...                 ...        ...        ...        ...        ...      ...   \n",
       "102527                0          0          0          1          0        0   \n",
       "64443                 0          0          0          0          1        0   \n",
       "12220                 0          0          1          0          0        0   \n",
       "4532                  0          0          1          0          0        0   \n",
       "126429                0          0          1          0          0        0   \n",
       "\n",
       "        age_>74  \n",
       "84480         0  \n",
       "99447         0  \n",
       "97510         0  \n",
       "96311         0  \n",
       "71674         0  \n",
       "...         ...  \n",
       "102527        0  \n",
       "64443         0  \n",
       "12220         0  \n",
       "4532          0  \n",
       "126429        0  \n",
       "\n",
       "[29733 rows x 17 columns]"
      ]
     },
     "execution_count": 76,
     "metadata": {},
     "output_type": "execute_result"
    }
   ],
   "source": [
    "x_test"
   ]
  },
  {
   "cell_type": "code",
   "execution_count": 77,
   "metadata": {
    "execution": {
     "iopub.execute_input": "2022-07-03T23:05:40.497484Z",
     "iopub.status.busy": "2022-07-03T23:05:40.497102Z",
     "iopub.status.idle": "2022-07-03T23:05:40.504599Z",
     "shell.execute_reply": "2022-07-03T23:05:40.503544Z",
     "shell.execute_reply.started": "2022-07-03T23:05:40.497455Z"
    }
   },
   "outputs": [
    {
     "data": {
      "text/plain": [
       "(29733, 17)"
      ]
     },
     "execution_count": 77,
     "metadata": {},
     "output_type": "execute_result"
    }
   ],
   "source": [
    "x_test.shape"
   ]
  },
  {
   "cell_type": "code",
   "execution_count": 78,
   "metadata": {
    "execution": {
     "iopub.execute_input": "2022-07-03T23:05:44.416222Z",
     "iopub.status.busy": "2022-07-03T23:05:44.415837Z",
     "iopub.status.idle": "2022-07-03T23:05:44.424957Z",
     "shell.execute_reply": "2022-07-03T23:05:44.423928Z",
     "shell.execute_reply.started": "2022-07-03T23:05:44.416192Z"
    }
   },
   "outputs": [
    {
     "data": {
      "text/plain": [
       "121129    1\n",
       "77261     0\n",
       "20831     0\n",
       "127668    0\n",
       "61853     0\n",
       "         ..\n",
       "12620     0\n",
       "139786    0\n",
       "50353     0\n",
       "61519     0\n",
       "7614      0\n",
       "Name: status, Length: 118931, dtype: int64"
      ]
     },
     "execution_count": 78,
     "metadata": {},
     "output_type": "execute_result"
    }
   ],
   "source": [
    "y_train"
   ]
  },
  {
   "cell_type": "code",
   "execution_count": 79,
   "metadata": {
    "execution": {
     "iopub.execute_input": "2022-07-03T23:05:50.073528Z",
     "iopub.status.busy": "2022-07-03T23:05:50.073076Z",
     "iopub.status.idle": "2022-07-03T23:05:50.080868Z",
     "shell.execute_reply": "2022-07-03T23:05:50.079945Z",
     "shell.execute_reply.started": "2022-07-03T23:05:50.073489Z"
    }
   },
   "outputs": [
    {
     "data": {
      "text/plain": [
       "(118931, 17)"
      ]
     },
     "execution_count": 79,
     "metadata": {},
     "output_type": "execute_result"
    }
   ],
   "source": [
    "x_train.shape"
   ]
  },
  {
   "cell_type": "code",
   "execution_count": 80,
   "metadata": {
    "execution": {
     "iopub.execute_input": "2022-07-03T23:05:55.755598Z",
     "iopub.status.busy": "2022-07-03T23:05:55.755229Z",
     "iopub.status.idle": "2022-07-03T23:05:55.763703Z",
     "shell.execute_reply": "2022-07-03T23:05:55.761583Z",
     "shell.execute_reply.started": "2022-07-03T23:05:55.755569Z"
    }
   },
   "outputs": [
    {
     "data": {
      "text/plain": [
       "(118931,)"
      ]
     },
     "execution_count": 80,
     "metadata": {},
     "output_type": "execute_result"
    }
   ],
   "source": [
    "y_train.shape"
   ]
  },
  {
   "cell_type": "code",
   "execution_count": 81,
   "metadata": {
    "execution": {
     "iopub.execute_input": "2022-07-03T23:06:00.454123Z",
     "iopub.status.busy": "2022-07-03T23:06:00.453745Z",
     "iopub.status.idle": "2022-07-03T23:06:00.465108Z",
     "shell.execute_reply": "2022-07-03T23:06:00.464027Z",
     "shell.execute_reply.started": "2022-07-03T23:06:00.454094Z"
    }
   },
   "outputs": [
    {
     "data": {
      "text/plain": [
       "0    89694\n",
       "1    29237\n",
       "Name: status, dtype: int64"
      ]
     },
     "execution_count": 81,
     "metadata": {},
     "output_type": "execute_result"
    }
   ],
   "source": [
    "y_train.value_counts()"
   ]
  },
  {
   "cell_type": "code",
   "execution_count": 82,
   "metadata": {
    "execution": {
     "iopub.execute_input": "2022-07-03T23:06:04.544903Z",
     "iopub.status.busy": "2022-07-03T23:06:04.544518Z",
     "iopub.status.idle": "2022-07-03T23:06:05.109379Z",
     "shell.execute_reply": "2022-07-03T23:06:05.108074Z",
     "shell.execute_reply.started": "2022-07-03T23:06:04.544867Z"
    }
   },
   "outputs": [],
   "source": [
    "sm = SMOTE()\n",
    "x_train, y_train = sm.fit_resample(x_train, y_train)"
   ]
  },
  {
   "cell_type": "code",
   "execution_count": 83,
   "metadata": {
    "execution": {
     "iopub.execute_input": "2022-07-03T23:06:09.188825Z",
     "iopub.status.busy": "2022-07-03T23:06:09.188345Z",
     "iopub.status.idle": "2022-07-03T23:06:09.198797Z",
     "shell.execute_reply": "2022-07-03T23:06:09.197539Z",
     "shell.execute_reply.started": "2022-07-03T23:06:09.188794Z"
    }
   },
   "outputs": [
    {
     "data": {
      "text/plain": [
       "1    89694\n",
       "0    89694\n",
       "Name: status, dtype: int64"
      ]
     },
     "execution_count": 83,
     "metadata": {},
     "output_type": "execute_result"
    }
   ],
   "source": [
    "y_train.value_counts()"
   ]
  },
  {
   "cell_type": "markdown",
   "metadata": {},
   "source": [
    "# Decision Tree Classifier"
   ]
  },
  {
   "cell_type": "code",
   "execution_count": 84,
   "metadata": {
    "execution": {
     "iopub.execute_input": "2022-07-03T23:07:13.633564Z",
     "iopub.status.busy": "2022-07-03T23:07:13.633284Z",
     "iopub.status.idle": "2022-07-03T23:07:14.399666Z",
     "shell.execute_reply": "2022-07-03T23:07:14.398832Z",
     "shell.execute_reply.started": "2022-07-03T23:07:13.63354Z"
    }
   },
   "outputs": [
    {
     "name": "stdout",
     "output_type": "stream",
     "text": [
      "Confusion Matrix:\n",
      " [[21815   518]\n",
      " [  426  6974]]\n",
      "Accuracy: 0.968250765143107\n",
      "ROC AUC Score: 0.9596190281984845\n",
      "Precison: 0.9308595835557928\n",
      "Recall: 0.9424324324324325\n"
     ]
    }
   ],
   "source": [
    "from sklearn.tree import DecisionTreeClassifier\n",
    "from sklearn.metrics import accuracy_score,f1_score,precision_score, recall_score, accuracy_score, roc_auc_score\n",
    "from sklearn.metrics import classification_report\n",
    "from sklearn.metrics import confusion_matrix\n",
    "\n",
    "model=DecisionTreeClassifier()\n",
    "model.fit(x_train,y_train)\n",
    "y_pred=model.predict(x_test)\n",
    "\n",
    "print('Confusion Matrix:\\n',confusion_matrix(y_test,y_pred))\n",
    "print('Accuracy:',accuracy_score(y_test,y_pred))\n",
    "print('ROC AUC Score:',roc_auc_score(y_test,y_pred))\n",
    "print('Precison:',precision_score(y_test,y_pred))\n",
    "print('Recall:',recall_score(y_test,y_pred))"
   ]
  },
  {
   "cell_type": "markdown",
   "metadata": {},
   "source": [
    "# Random forest Classifier"
   ]
  },
  {
   "cell_type": "code",
   "execution_count": 85,
   "metadata": {
    "execution": {
     "iopub.execute_input": "2022-07-03T23:07:35.677341Z",
     "iopub.status.busy": "2022-07-03T23:07:35.676659Z",
     "iopub.status.idle": "2022-07-03T23:07:51.800204Z",
     "shell.execute_reply": "2022-07-03T23:07:51.799229Z",
     "shell.execute_reply.started": "2022-07-03T23:07:35.67731Z"
    }
   },
   "outputs": [
    {
     "name": "stdout",
     "output_type": "stream",
     "text": [
      "Confusion Matrix:\n",
      " [[21634   699]\n",
      " [  491  6909]]\n",
      "Accuracy: 0.9599771297884505\n",
      "ROC AUC Score: 0.9511748370185437\n",
      "Precison: 0.9081230283911672\n",
      "Recall: 0.9336486486486486\n"
     ]
    }
   ],
   "source": [
    "from sklearn.ensemble import RandomForestClassifier\n",
    "from sklearn.metrics import accuracy_score\n",
    "from sklearn.metrics import classification_report\n",
    "from sklearn.metrics import confusion_matrix\n",
    "\n",
    "model=RandomForestClassifier(n_estimators=1)\n",
    "model.fit(x_train,y_train)\n",
    "y_pred=model.predict(x_test)\n",
    "\n",
    "print('Confusion Matrix:\\n',confusion_matrix(y_test,y_pred))\n",
    "print('Accuracy:',accuracy_score(y_test,y_pred))\n",
    "print('ROC AUC Score:',roc_auc_score(y_test,y_pred))\n",
    "print('Precison:',precision_score(y_test,y_pred))\n",
    "print('Recall:',recall_score(y_test,y_pred))"
   ]
  },
  {
   "cell_type": "markdown",
   "metadata": {},
   "source": [
    "# Logistic Regression"
   ]
  },
  {
   "cell_type": "code",
   "execution_count": 78,
   "metadata": {},
   "outputs": [
    {
     "name": "stdout",
     "output_type": "stream",
     "text": [
      "Confusion Matrix:\n",
      " [[10443 12030]\n",
      " [ 3218  4042]]\n",
      "Accuracy: 0.48716913866747386\n",
      "ROC AUC Score: 0.5107201368915426\n",
      "Precison: 0.25149328023892487\n",
      "Recall: 0.5567493112947658\n"
     ]
    }
   ],
   "source": [
    "from sklearn.linear_model import LogisticRegression\n",
    "from sklearn.metrics import accuracy_score,f1_score,precision_score, recall_score, accuracy_score, roc_auc_score\n",
    "from sklearn.metrics import classification_report\n",
    "from sklearn.metrics import confusion_matrix\n",
    "\n",
    "model=LogisticRegression(random_state=1234)\n",
    "model.fit(x_train,y_train)\n",
    "y_pred=model.predict(x_test)\n",
    "\n",
    "print('Confusion Matrix:\\n',confusion_matrix(y_test,y_pred))\n",
    "print('Accuracy:',accuracy_score(y_test,y_pred))\n",
    "print('ROC AUC Score:',roc_auc_score(y_test,y_pred))\n",
    "print('Precison:',precision_score(y_test,y_pred))\n",
    "print('Recall:',recall_score(y_test,y_pred))"
   ]
  },
  {
   "cell_type": "markdown",
   "metadata": {},
   "source": [
    "# K-Nearest Neighbor (KNN) Classifier"
   ]
  },
  {
   "cell_type": "code",
   "execution_count": 79,
   "metadata": {},
   "outputs": [
    {
     "name": "stdout",
     "output_type": "stream",
     "text": [
      "Confusion Matrix:\n",
      " [[20171  2302]\n",
      " [ 3405  3855]]\n",
      "Accuracy: 0.8080583863047792\n",
      "ROC AUC Score: 0.7142788517938697\n",
      "Precison: 0.6261166152346922\n",
      "Recall: 0.53099173553719\n"
     ]
    }
   ],
   "source": [
    "from sklearn.neighbors import KNeighborsClassifier\n",
    "from sklearn.metrics import accuracy_score,f1_score,precision_score, recall_score, accuracy_score, roc_auc_score\n",
    "from sklearn.metrics import classification_report\n",
    "from sklearn.metrics import confusion_matrix\n",
    "\n",
    "model=KNeighborsClassifier(n_neighbors=200)\n",
    "model.fit(x_train,y_train)\n",
    "y_pred=model.predict(x_test)\n",
    "\n",
    "print('Confusion Matrix:\\n',confusion_matrix(y_test,y_pred))\n",
    "print('Accuracy:',accuracy_score(y_test,y_pred))\n",
    "print('ROC AUC Score:',roc_auc_score(y_test,y_pred))\n",
    "print('Precison:',precision_score(y_test,y_pred))\n",
    "print('Recall:',recall_score(y_test,y_pred))"
   ]
  },
  {
   "cell_type": "code",
   "execution_count": 80,
   "metadata": {},
   "outputs": [
    {
     "name": "stdout",
     "output_type": "stream",
     "text": [
      "<class 'pandas.core.frame.DataFrame'>\n",
      "RangeIndex: 179108 entries, 0 to 179107\n",
      "Data columns (total 15 columns):\n",
      " #   Column            Non-Null Count   Dtype  \n",
      "---  ------            --------------   -----  \n",
      " 0   loan_amount       179108 non-null  int64  \n",
      " 1   rate_of_interest  179108 non-null  float64\n",
      " 2   term              179108 non-null  float64\n",
      " 3   property_value    179108 non-null  float64\n",
      " 4   income            179108 non-null  float64\n",
      " 5   credit_score      179108 non-null  int64  \n",
      " 6   dtir1             179108 non-null  float64\n",
      " 7   new               179108 non-null  float64\n",
      " 8   new1              179108 non-null  float64\n",
      " 9   loan_type_type2   179108 non-null  uint8  \n",
      " 10  loan_type_type3   179108 non-null  uint8  \n",
      " 11  age_35-44         179108 non-null  uint8  \n",
      " 12  age_45-54         179108 non-null  uint8  \n",
      " 13  age_55-64         179108 non-null  uint8  \n",
      " 14  age_65-74         179108 non-null  uint8  \n",
      "dtypes: float64(7), int64(2), uint8(6)\n",
      "memory usage: 13.3 MB\n"
     ]
    }
   ],
   "source": [
    "columns= ['age_<25','age_>74']\n",
    "x_train.drop(columns,axis=1, inplace =True)\n",
    "\n",
    "x_train.info()"
   ]
  },
  {
   "cell_type": "code",
   "execution_count": 81,
   "metadata": {},
   "outputs": [
    {
     "name": "stdout",
     "output_type": "stream",
     "text": [
      "<class 'pandas.core.frame.DataFrame'>\n",
      "Int64Index: 29733 entries, 62021 to 106328\n",
      "Data columns (total 17 columns):\n",
      " #   Column            Non-Null Count  Dtype  \n",
      "---  ------            --------------  -----  \n",
      " 0   loan_amount       29733 non-null  int64  \n",
      " 1   rate_of_interest  29733 non-null  float64\n",
      " 2   term              29733 non-null  float64\n",
      " 3   property_value    29733 non-null  float64\n",
      " 4   income            29733 non-null  float64\n",
      " 5   credit_score      29733 non-null  int64  \n",
      " 6   dtir1             29733 non-null  float64\n",
      " 7   new               29733 non-null  float64\n",
      " 8   new1              29733 non-null  float64\n",
      " 9   loan_type_type2   29733 non-null  uint8  \n",
      " 10  loan_type_type3   29733 non-null  uint8  \n",
      " 11  age_35-44         29733 non-null  uint8  \n",
      " 12  age_45-54         29733 non-null  uint8  \n",
      " 13  age_55-64         29733 non-null  uint8  \n",
      " 14  age_65-74         29733 non-null  uint8  \n",
      " 15  age_<25           29733 non-null  uint8  \n",
      " 16  age_>74           29733 non-null  uint8  \n",
      "dtypes: float64(7), int64(2), uint8(8)\n",
      "memory usage: 2.5 MB\n"
     ]
    }
   ],
   "source": [
    "x_test.info()\n",
    "columns= ['age_<25','age_>74']\n",
    "x_test.drop(columns,axis=1, inplace =True)"
   ]
  },
  {
   "cell_type": "markdown",
   "metadata": {},
   "source": [
    "# XGBoost Classifier"
   ]
  },
  {
   "cell_type": "code",
   "execution_count": 82,
   "metadata": {},
   "outputs": [
    {
     "name": "stdout",
     "output_type": "stream",
     "text": [
      "Confusion Matrix:\n",
      " [[21926   547]\n",
      " [  174  7086]]\n",
      "Accuracy: 0.9757508492247671\n",
      "ROC AUC Score: 0.9758463691783674\n",
      "Precison: 0.9283374819861129\n",
      "Recall: 0.9760330578512396\n"
     ]
    }
   ],
   "source": [
    "import xgboost as xgb\n",
    "x_train.columns[x_train.columns.str.contains(\"[\\[\\]<]\")] \n",
    "\n",
    "xgb_classifier = xgb.XGBClassifier(max_depth=20)\n",
    "xgb_classifier.fit(x_train,y_train)\n",
    "y_pred = xgb_classifier.predict(x_test)\n",
    "\n",
    "print('Confusion Matrix:\\n',confusion_matrix(y_test,y_pred))\n",
    "print('Accuracy:',accuracy_score(y_test,y_pred))\n",
    "print('ROC AUC Score:',roc_auc_score(y_test,y_pred))\n",
    "print('Precison:',precision_score(y_test,y_pred))\n",
    "print('Recall:',recall_score(y_test,y_pred))\n",
    "\n",
    "\n"
   ]
  },
  {
   "cell_type": "code",
   "execution_count": 101,
   "metadata": {},
   "outputs": [
    {
     "name": "stdout",
     "output_type": "stream",
     "text": [
      "loan_amount           int64\n",
      "rate_of_interest    float64\n",
      "term                float64\n",
      "property_value      float64\n",
      "income              float64\n",
      "credit_score          int64\n",
      "dtir1               float64\n",
      "new                 float64\n",
      "new1                float64\n",
      "loan_type_type2       uint8\n",
      "loan_type_type3       uint8\n",
      "age_35-44             uint8\n",
      "age_45-54             uint8\n",
      "age_55-64             uint8\n",
      "age_65-74             uint8\n",
      "dtype: object\n"
     ]
    }
   ],
   "source": [
    "x_test.head()\n",
    "print(x_test.dtypes)"
   ]
  },
  {
   "cell_type": "markdown",
   "metadata": {},
   "source": [
    "# Comparing all models using ROC Curve"
   ]
  },
  {
   "cell_type": "code",
   "execution_count": 82,
   "metadata": {},
   "outputs": [],
   "source": [
    "from sklearn.linear_model import LogisticRegression\n",
    "from sklearn.naive_bayes import GaussianNB\n",
    "from sklearn.neighbors import KNeighborsClassifier\n",
    "from sklearn.tree import DecisionTreeClassifier\n",
    "from sklearn.ensemble import RandomForestClassifier\n",
    "\n",
    "from sklearn.metrics import roc_curve, roc_auc_score\n",
    "\n",
    "# Instantiate the classfiers and make a list\n",
    "classifiers = [LogisticRegression(random_state=1234), \n",
    "               xgb.XGBClassifier(max_depth=20),\n",
    "               KNeighborsClassifier(), \n",
    "               DecisionTreeClassifier(random_state=1234),\n",
    "               RandomForestClassifier(n_estimators=2)]\n",
    "\n",
    "# Define a result table as a DataFrame\n",
    "result_table = pd.DataFrame(columns=['classifiers', 'fpr','tpr','auc'])\n",
    "\n",
    "# Train the models and record the results\n",
    "for cls in classifiers:\n",
    "    model = cls.fit(x_train, y_train)\n",
    "    yproba = model.predict_proba(x_test)[::,1]\n",
    "    \n",
    "    fpr, tpr, _ = roc_curve(y_test,  yproba)\n",
    "    auc = roc_auc_score(y_test, yproba)\n",
    "    \n",
    "    result_table = result_table.append({'classifiers':cls.__class__.__name__,\n",
    "                                        'fpr':fpr, \n",
    "                                        'tpr':tpr, \n",
    "                                        'auc':auc}, ignore_index=True)\n",
    "\n",
    "# Set name of the classifiers as index labels\n",
    "result_table.set_index('classifiers', inplace=True)"
   ]
  },
  {
   "cell_type": "code",
   "execution_count": 83,
   "metadata": {},
   "outputs": [
    {
     "data": {
      "image/png": "[encoded data removed]",
      "text/plain": [
       "<Figure size 800x600 with 1 Axes>"
      ]
     },
     "metadata": {},
     "output_type": "display_data"
    }
   ],
   "source": [
    "fig = plt.figure(figsize=(8,6))\n",
    "\n",
    "for i in result_table.index:\n",
    "    plt.plot(result_table.loc[i]['fpr'], \n",
    "             result_table.loc[i]['tpr'], \n",
    "             label=\"{}, AUC={:.3f}\".format(i, result_table.loc[i]['auc']))\n",
    "    \n",
    "plt.plot([0,1], [0,1], color='orange', linestyle='--')\n",
    "\n",
    "plt.xticks(np.arange(0.0, 1.1, step=0.1))\n",
    "plt.xlabel(\"False Positive Rate\", fontsize=15)\n",
    "\n",
    "plt.yticks(np.arange(0.0, 1.1, step=0.1))\n",
    "plt.ylabel(\"True Positive Rate\", fontsize=15)\n",
    "\n",
    "plt.title('ROC Curve Analysis', fontweight='bold', fontsize=15)\n",
    "plt.legend(prop={'size':13}, loc='lower right')\n",
    "\n",
    "plt.show()"
   ]
  },
  {
   "cell_type": "markdown",
   "metadata": {},
   "source": [
    "# End"
   ]
  },
  {
   "cell_type": "code",
   "execution_count": null,
   "metadata": {},
   "outputs": [],
   "source": []
  },
  {
   "cell_type": "code",
   "execution_count": null,
   "metadata": {},
   "outputs": [],
   "source": []
  },
  {
   "cell_type": "code",
   "execution_count": null,
   "metadata": {},
   "outputs": [],
   "source": []
  },
  {
   "cell_type": "code",
   "execution_count": null,
   "metadata": {},
   "outputs": [],
   "source": []
  },
  {
   "cell_type": "code",
   "execution_count": null,
   "metadata": {},
   "outputs": [],
   "source": []
  }
 ],
 "metadata": {
  "kernelspec": {
   "display_name": "Python 3 (ipykernel)",
   "language": "python",
   "name": "python3"
  },
  "language_info": {
   "codemirror_mode": {
    "name": "ipython",
    "version": 3
   },
   "file_extension": ".py",
   "mimetype": "text/x-python",
   "name": "python",
   "nbconvert_exporter": "python",
   "pygments_lexer": "ipython3",
   "version": "3.11.3"
  }
 },
 "nbformat": 4,
 "nbformat_minor": 4
}
